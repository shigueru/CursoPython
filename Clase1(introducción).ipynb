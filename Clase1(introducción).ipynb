{
 "metadata": {
  "name": "",
  "signature": "sha256:60d83b56a2c4f475fd6f4de055daad8e6ee24ab6fbd682e590421cd4f29cc016"
 },
 "nbformat": 3,
 "nbformat_minor": 0,
 "worksheets": [
  {
   "cells": [
    {
     "cell_type": "heading",
     "level": 1,
     "metadata": {},
     "source": [
      "Python- Sintaxis Basica"
     ]
    },
    {
     "cell_type": "markdown",
     "metadata": {},
     "source": [
      "Python es un lenguaje de programaci\u00f3n interpretado, pero como la mayoria de lenguajes este posee una sintaxis propia. Esta sintaxis es la que ocupa esta primera secci\u00f3n"
     ]
    },
    {
     "cell_type": "code",
     "collapsed": false,
     "input": [
      "import this"
     ],
     "language": "python",
     "metadata": {},
     "outputs": [
      {
       "output_type": "stream",
       "stream": "stdout",
       "text": [
        "The Zen of Python, by Tim Peters\n",
        "\n",
        "Beautiful is better than ugly.\n",
        "Explicit is better than implicit.\n",
        "Simple is better than complex.\n",
        "Complex is better than complicated.\n",
        "Flat is better than nested.\n",
        "Sparse is better than dense.\n",
        "Readability counts.\n",
        "Special cases aren't special enough to break the rules.\n",
        "Although practicality beats purity.\n",
        "Errors should never pass silently.\n",
        "Unless explicitly silenced.\n",
        "In the face of ambiguity, refuse the temptation to guess.\n",
        "There should be one-- and preferably only one --obvious way to do it.\n",
        "Although that way may not be obvious at first unless you're Dutch.\n",
        "Now is better than never.\n",
        "Although never is often better than *right* now.\n",
        "If the implementation is hard to explain, it's a bad idea.\n",
        "If the implementation is easy to explain, it may be a good idea.\n",
        "Namespaces are one honking great idea -- let's do more of those!\n"
       ]
      }
     ],
     "prompt_number": 7
    },
    {
     "cell_type": "heading",
     "level": 2,
     "metadata": {},
     "source": [
      "Tipos de datos"
     ]
    },
    {
     "cell_type": "markdown",
     "metadata": {},
     "source": [
      "Python posee varios tipos de datos, algunos son ya muy conocidos pero otros podrian resultar nuevos para personas que no esten familiarisadas con el mundo de la programaci\u00f3n.Estos son:\n",
      "- Enteros\n",
      "- Floats\n",
      "- Complejos\n",
      "- Booleanos\n",
      "- Listas\n",
      "- Tuplas\n",
      "- Diccionarios\n",
      "- Strings"
     ]
    },
    {
     "cell_type": "heading",
     "level": 3,
     "metadata": {},
     "source": [
      "Enteros"
     ]
    },
    {
     "cell_type": "markdown",
     "metadata": {},
     "source": [
      "Los enteros no tienen nada fuera de lo normal, como pasaremos a ver"
     ]
    },
    {
     "cell_type": "code",
     "collapsed": false,
     "input": [
      "#declaramos dos variables enteras\n",
      "x = 3\n",
      "y = 4\n",
      "# realizamos las cuatro operaciones basicas con estos dos enteros\n",
      "su = x + y\n",
      "re = y - x\n",
      "div = x / y\n",
      "mul = x * y\n",
      "print(\"la suma es igual  : \", su)\n",
      "print(\"la resta es : \", re)\n",
      "print(\"la multiplicacion es : \", mul)\n",
      "print(\"la division es : \", div)"
     ],
     "language": "python",
     "metadata": {},
     "outputs": [
      {
       "output_type": "stream",
       "stream": "stdout",
       "text": [
        "la suma es igual  :  7 7\n",
        "la resta es :  1\n",
        "la multiplicacion es :  12\n",
        "la division es :  0.75\n"
       ]
      }
     ],
     "prompt_number": 2
    },
    {
     "cell_type": "markdown",
     "metadata": {},
     "source": [
      "debemos hacer notar algo bastante interesante en la division, nos referimos al hecho de que a pesar de estar dividiendo enteros , el resultados nos lo entrega con decimales.\n",
      "Esto es una de las mejoras de python 3.x, ya que en python 2.x este resultado se hubiera mostrado sin decimales, pero si por alguna razon deseamos hacer esto, debemos escribir lo siguiente"
     ]
    },
    {
     "cell_type": "code",
     "collapsed": false,
     "input": [
      "div_decimal = x // y\n",
      "print(\"la division es : \", div_decimal)"
     ],
     "language": "python",
     "metadata": {},
     "outputs": [
      {
       "output_type": "stream",
       "stream": "stdout",
       "text": [
        "la division es :  0\n"
       ]
      }
     ],
     "prompt_number": 3
    },
    {
     "cell_type": "markdown",
     "metadata": {},
     "source": [
      "intentemos una division por cero haber que sucede"
     ]
    },
    {
     "cell_type": "code",
     "collapsed": false,
     "input": [
      "div_cero = x / 0\n",
      "print(\"division por cero : \", div_cero)"
     ],
     "language": "python",
     "metadata": {},
     "outputs": [
      {
       "ename": "ZeroDivisionError",
       "evalue": "division by zero",
       "output_type": "pyerr",
       "traceback": [
        "\u001b[1;31m---------------------------------------------------------------------------\u001b[0m\n\u001b[1;31mZeroDivisionError\u001b[0m                         Traceback (most recent call last)",
        "\u001b[1;32m<ipython-input-10-9e6b85bc63a7>\u001b[0m in \u001b[0;36m<module>\u001b[1;34m()\u001b[0m\n\u001b[1;32m----> 1\u001b[1;33m \u001b[0mdiv_cero\u001b[0m \u001b[1;33m=\u001b[0m \u001b[0mx\u001b[0m \u001b[1;33m/\u001b[0m \u001b[1;36m0\u001b[0m\u001b[1;33m\u001b[0m\u001b[0m\n\u001b[0m\u001b[0;32m      2\u001b[0m \u001b[0mprint\u001b[0m\u001b[1;33m(\u001b[0m\u001b[1;34m\"division por cero : \"\u001b[0m\u001b[1;33m,\u001b[0m \u001b[0mdiv_cero\u001b[0m\u001b[1;33m)\u001b[0m\u001b[1;33m\u001b[0m\u001b[0m\n",
        "\u001b[1;31mZeroDivisionError\u001b[0m: division by zero"
       ]
      }
     ],
     "prompt_number": 10
    },
    {
     "cell_type": "heading",
     "level": 3,
     "metadata": {},
     "source": [
      "Floats"
     ]
    },
    {
     "cell_type": "markdown",
     "metadata": {},
     "source": [
      "Los n\u00fameros de punto flotante, tampoco son diferentes a los que ya conocemos de otros lenguajes de programaci\u00f3n, asi que les damos un rapido repaso"
     ]
    },
    {
     "cell_type": "code",
     "collapsed": false,
     "input": [
      "# declaramos dos variables de tipo float\n",
      "f1 = 23.45\n",
      "f2 = 46.6\n",
      "# realizamos las cuatro operaciones basicas\n",
      "su_f = f1 + f2\n",
      "re_f = f1 - f2\n",
      "mul_f = f1 * f2\n",
      "div_f = f1 / f2\n",
      "print(\"la suma es : \", su_f)\n",
      "print(\"la resta es : \", re_f)\n",
      "print(\"la multiplicacion es : \", mul_f)\n",
      "print(\"la division es : \", div_f)"
     ],
     "language": "python",
     "metadata": {},
     "outputs": [
      {
       "output_type": "stream",
       "stream": "stdout",
       "text": [
        "la suma es :  70.05\n",
        "la resta es :  -23.150000000000002\n",
        "la multiplicacion es :  1092.77\n",
        "la division es :  0.5032188841201717\n"
       ]
      }
     ],
     "prompt_number": 9
    },
    {
     "cell_type": "markdown",
     "metadata": {},
     "source": [
      "intentemos otra vez la division por cero"
     ]
    },
    {
     "cell_type": "code",
     "collapsed": false,
     "input": [
      "div_f_cero = f1 / 0\n",
      "print(div_f_cero)"
     ],
     "language": "python",
     "metadata": {},
     "outputs": [
      {
       "ename": "ZeroDivisionError",
       "evalue": "float division by zero",
       "output_type": "pyerr",
       "traceback": [
        "\u001b[1;31m---------------------------------------------------------------------------\u001b[0m\n\u001b[1;31mZeroDivisionError\u001b[0m                         Traceback (most recent call last)",
        "\u001b[1;32m<ipython-input-11-b41534e60168>\u001b[0m in \u001b[0;36m<module>\u001b[1;34m()\u001b[0m\n\u001b[1;32m----> 1\u001b[1;33m \u001b[0mdiv_f_cero\u001b[0m \u001b[1;33m=\u001b[0m \u001b[0mf1\u001b[0m \u001b[1;33m/\u001b[0m \u001b[1;36m0\u001b[0m\u001b[1;33m\u001b[0m\u001b[0m\n\u001b[0m\u001b[0;32m      2\u001b[0m \u001b[0mprint\u001b[0m\u001b[1;33m(\u001b[0m\u001b[0mdiv_f_cero\u001b[0m\u001b[1;33m)\u001b[0m\u001b[1;33m\u001b[0m\u001b[0m\n",
        "\u001b[1;31mZeroDivisionError\u001b[0m: float division by zero"
       ]
      }
     ],
     "prompt_number": 11
    },
    {
     "cell_type": "heading",
     "level": 3,
     "metadata": {},
     "source": [
      "Complejos"
     ]
    },
    {
     "cell_type": "markdown",
     "metadata": {},
     "source": [
      "Python tambien posee un tipo especial para numeros complejos, cuya forma de representar es la siguiente: a+bj ;\n",
      "\"a\" es la parte real\n",
      "y al numero \"b\" se le adjunta una \"j\" para indicar que es la parte imaginaria"
     ]
    },
    {
     "cell_type": "code",
     "collapsed": false,
     "input": [
      "# declaramos dos variables de tipo complejo\n",
      "com_1 = 2+34j\n",
      "com_2 = 24+3j\n",
      "#realizamos las cuatro operaciones basicas\n",
      "su_com = com_1 + com_2\n",
      "re_com = com_1 - com_2\n",
      "mul_com = com_1 * com_2\n",
      "div_com = com_1 / com_2\n",
      "print(\"la suma es : \", su_com)\n",
      "print(\"la resta es : \", re_com)\n",
      "print(\"la multiplicacion es : \", mul_com)\n",
      "print(\"la division es : \", div_com)"
     ],
     "language": "python",
     "metadata": {},
     "outputs": [
      {
       "output_type": "stream",
       "stream": "stdout",
       "text": [
        "la suma es :  (26+37j)\n",
        "la resta es :  (-22+31j)\n",
        "la multiplicacion es :  (-54+822j)\n",
        "la division es :  (0.2564102564102564+1.3846153846153846j)\n"
       ]
      }
     ],
     "prompt_number": 12
    },
    {
     "cell_type": "markdown",
     "metadata": {},
     "source": [
      "Ahora antes de pasar a los otros tipos de datos, vamos a hacer un peque\u00f1o parentesis y veamos los operadores de comparaci\u00f3n: ==, !=, <, <=, >, >=.\n"
     ]
    },
    {
     "cell_type": "code",
     "collapsed": false,
     "input": [
      "# hagamos algunos ejemplos\n",
      "\n",
      "# definimos algunas variables\n",
      "\n",
      "x = 2+3j\n",
      "y = 23\n",
      "z = 34.5\n",
      "t = -2.4\n"
     ],
     "language": "python",
     "metadata": {},
     "outputs": [],
     "prompt_number": 13
    },
    {
     "cell_type": "code",
     "collapsed": false,
     "input": [
      "x < y # no podemos establecer relaciones de comparacion con numeros complejos"
     ],
     "language": "python",
     "metadata": {},
     "outputs": [
      {
       "ename": "TypeError",
       "evalue": "unorderable types: complex() < int()",
       "output_type": "pyerr",
       "traceback": [
        "\u001b[1;31m---------------------------------------------------------------------------\u001b[0m\n\u001b[1;31mTypeError\u001b[0m                                 Traceback (most recent call last)",
        "\u001b[1;32m<ipython-input-38-ed2020615797>\u001b[0m in \u001b[0;36m<module>\u001b[1;34m()\u001b[0m\n\u001b[1;32m----> 1\u001b[1;33m \u001b[0mx\u001b[0m \u001b[1;33m<\u001b[0m \u001b[0my\u001b[0m \u001b[1;31m# no podemos establecer relaciones de comparacion con numeros complejos\u001b[0m\u001b[1;33m\u001b[0m\u001b[0m\n\u001b[0m",
        "\u001b[1;31mTypeError\u001b[0m: unorderable types: complex() < int()"
       ]
      }
     ],
     "prompt_number": 38
    },
    {
     "cell_type": "code",
     "collapsed": false,
     "input": [
      "y == t"
     ],
     "language": "python",
     "metadata": {},
     "outputs": [
      {
       "metadata": {},
       "output_type": "pyout",
       "prompt_number": 15,
       "text": [
        "False"
       ]
      }
     ],
     "prompt_number": 15
    },
    {
     "cell_type": "code",
     "collapsed": false,
     "input": [
      "t < z"
     ],
     "language": "python",
     "metadata": {},
     "outputs": [
      {
       "metadata": {},
       "output_type": "pyout",
       "prompt_number": 16,
       "text": [
        "True"
       ]
      }
     ],
     "prompt_number": 16
    },
    {
     "cell_type": "code",
     "collapsed": false,
     "input": [
      "t != y"
     ],
     "language": "python",
     "metadata": {},
     "outputs": [
      {
       "metadata": {},
       "output_type": "pyout",
       "prompt_number": 17,
       "text": [
        "True"
       ]
      }
     ],
     "prompt_number": 17
    },
    {
     "cell_type": "markdown",
     "metadata": {},
     "source": [
      "Ahora veremos funciones para transformar de un tipo de dato a otro:\n",
      "- int()\n",
      "- float()\n",
      "- complex()"
     ]
    },
    {
     "cell_type": "code",
     "collapsed": false,
     "input": [
      "# definimos algunas variables\n",
      "var1 = 23.5\n",
      "var2 = 3+4j\n",
      "var3 = 234"
     ],
     "language": "python",
     "metadata": {},
     "outputs": [],
     "prompt_number": 24
    },
    {
     "cell_type": "code",
     "collapsed": false,
     "input": [
      "entero = int(var1)\n",
      "print(entero)"
     ],
     "language": "python",
     "metadata": {},
     "outputs": [
      {
       "output_type": "stream",
       "stream": "stdout",
       "text": [
        "23\n"
       ]
      }
     ],
     "prompt_number": 25
    },
    {
     "cell_type": "code",
     "collapsed": false,
     "input": [
      "entero2 = int(var2) # no podemos transformar un complejo a entero"
     ],
     "language": "python",
     "metadata": {},
     "outputs": [
      {
       "ename": "NameError",
       "evalue": "name 'var2' is not defined",
       "output_type": "pyerr",
       "traceback": [
        "\u001b[1;31m---------------------------------------------------------------------------\u001b[0m\n\u001b[1;31mNameError\u001b[0m                                 Traceback (most recent call last)",
        "\u001b[1;32m<ipython-input-1-093fade02255>\u001b[0m in \u001b[0;36m<module>\u001b[1;34m()\u001b[0m\n\u001b[1;32m----> 1\u001b[1;33m \u001b[0mentero2\u001b[0m \u001b[1;33m=\u001b[0m \u001b[0mint\u001b[0m\u001b[1;33m(\u001b[0m\u001b[0mvar2\u001b[0m\u001b[1;33m)\u001b[0m \u001b[1;31m# no podemos transformar un complejo a entero\u001b[0m\u001b[1;33m\u001b[0m\u001b[0m\n\u001b[0m",
        "\u001b[1;31mNameError\u001b[0m: name 'var2' is not defined"
       ]
      }
     ],
     "prompt_number": 1
    },
    {
     "cell_type": "code",
     "collapsed": false,
     "input": [
      "complejo = complex(var3)\n",
      "print(complejo)"
     ],
     "language": "python",
     "metadata": {},
     "outputs": [
      {
       "output_type": "stream",
       "stream": "stdout",
       "text": [
        "(234+0j)\n"
       ]
      }
     ],
     "prompt_number": 28
    },
    {
     "cell_type": "code",
     "collapsed": false,
     "input": [
      "complejo2 = complex(var1)\n",
      "print(complejo2)"
     ],
     "language": "python",
     "metadata": {},
     "outputs": [
      {
       "output_type": "stream",
       "stream": "stdout",
       "text": [
        "(23.5+0j)\n"
       ]
      }
     ],
     "prompt_number": 30
    },
    {
     "cell_type": "code",
     "collapsed": false,
     "input": [
      "float1 = float(var3)\n",
      "print(float1)"
     ],
     "language": "python",
     "metadata": {},
     "outputs": [
      {
       "output_type": "stream",
       "stream": "stdout",
       "text": [
        "234.0\n"
       ]
      }
     ],
     "prompt_number": 33
    },
    {
     "cell_type": "code",
     "collapsed": false,
     "input": [
      "float2 = float(var2) #no puedes transformar un complejo a punto flotante"
     ],
     "language": "python",
     "metadata": {},
     "outputs": [
      {
       "ename": "TypeError",
       "evalue": "can't convert complex to float",
       "output_type": "pyerr",
       "traceback": [
        "\u001b[1;31m---------------------------------------------------------------------------\u001b[0m\n\u001b[1;31mTypeError\u001b[0m                                 Traceback (most recent call last)",
        "\u001b[1;32m<ipython-input-35-23f6579f1fab>\u001b[0m in \u001b[0;36m<module>\u001b[1;34m()\u001b[0m\n\u001b[1;32m----> 1\u001b[1;33m \u001b[0mfloat2\u001b[0m \u001b[1;33m=\u001b[0m \u001b[0mfloat\u001b[0m\u001b[1;33m(\u001b[0m\u001b[0mvar2\u001b[0m\u001b[1;33m)\u001b[0m \u001b[1;31m#no puedes transformar un complejo a punto flotante\u001b[0m\u001b[1;33m\u001b[0m\u001b[0m\n\u001b[0m",
        "\u001b[1;31mTypeError\u001b[0m: can't convert complex to float"
       ]
      }
     ],
     "prompt_number": 35
    },
    {
     "cell_type": "markdown",
     "metadata": {},
     "source": [
      "cuando realizamos la transformacion a enteros, con la funcion int() , lo que estamos haciendo realmente es eliminar la parte decimal, pero no un redondeo. Si deseamos hacer un redondeo debemos usar otra funcion: round()"
     ]
    },
    {
     "cell_type": "code",
     "collapsed": false,
     "input": [
      "# definimos una variable\n",
      "dat = 12.7\n",
      "# primero int()\n",
      "dat_int = int(dat)\n",
      "print(\"solo elimina la parte decimal\",dat_int)\n",
      "#luego round()\n",
      "dat_round = round(dat)\n",
      "print(\"hace un verdadero redondeo\", dat_round)"
     ],
     "language": "python",
     "metadata": {},
     "outputs": [
      {
       "output_type": "stream",
       "stream": "stdout",
       "text": [
        "solo elimina la parte decimal 12\n",
        "hace un verdadero redondeo 13\n"
       ]
      }
     ],
     "prompt_number": 40
    },
    {
     "cell_type": "heading",
     "level": 3,
     "metadata": {},
     "source": [
      "Booleano"
     ]
    },
    {
     "cell_type": "markdown",
     "metadata": {},
     "source": [
      "Estos no tienen mayor misterio, solo son:\n",
      "- True\n",
      "- False"
     ]
    },
    {
     "cell_type": "code",
     "collapsed": false,
     "input": [
      "# un ejemplo rapido\n",
      "si = True\n",
      "no = False\n",
      "print(\"imprimimos el tipo de la variable : si \", type(si))\n",
      "print(\"ahora el de la variable : no \", type(no))\n",
      "f = 23\n",
      "print(type(f))"
     ],
     "language": "python",
     "metadata": {},
     "outputs": [
      {
       "output_type": "stream",
       "stream": "stdout",
       "text": [
        "imprimimos el tipo de la variable : si  <class 'bool'>\n",
        "ahora el de la variable : no  <class 'bool'>\n",
        "<class 'int'>\n"
       ]
      }
     ],
     "prompt_number": 3
    },
    {
     "cell_type": "heading",
     "level": 3,
     "metadata": {},
     "source": [
      "Tuplas"
     ]
    },
    {
     "cell_type": "markdown",
     "metadata": {},
     "source": [
      "Las tuplas son untipo de dato, pero para ser mas tecnicos, son en realidad un tipo de estructura, que se definen de la siguiente forma: () . Es decir los elementos van entre parentesis, y estos pueden ser del mismo tipo o distintos entre si. Ademas poseen ciertas caracteristicas:\n",
      "- Inmutabilidad\n",
      "- Indexaci\u00f3n\n",
      "\n",
      "Veamos algunos ejemplos para entender"
     ]
    },
    {
     "cell_type": "code",
     "collapsed": false,
     "input": [
      "# definimos algunas tuplas\n",
      "tup1 = (1,2,3,4,5,6,7,8,9)\n",
      "tup2 = (\"hola\",\"mundo\",\"soy\",\"notebook\",\"de\",\"ipython\")\n",
      "tup3 = (\"string\",1,2.5,2+3j)\n",
      "tup4 = (1.2, 2.2, 3.2, 4.2, 5.2, 6.2, 7.2, 8.2, 9.2)"
     ],
     "language": "python",
     "metadata": {},
     "outputs": [],
     "prompt_number": 56
    },
    {
     "cell_type": "code",
     "collapsed": false,
     "input": [
      "type(tup1)"
     ],
     "language": "python",
     "metadata": {},
     "outputs": [
      {
       "metadata": {},
       "output_type": "pyout",
       "prompt_number": 49,
       "text": [
        "tuple"
       ]
      }
     ],
     "prompt_number": 49
    },
    {
     "cell_type": "code",
     "collapsed": false,
     "input": [
      "valor = tup1[2] # OJO en python los indices comienzan en 0 (cero)\n",
      "print(valor)"
     ],
     "language": "python",
     "metadata": {},
     "outputs": [
      {
       "output_type": "stream",
       "stream": "stdout",
       "text": [
        "3\n"
       ]
      }
     ],
     "prompt_number": 52
    },
    {
     "cell_type": "code",
     "collapsed": false,
     "input": [
      "tup2[1] = \"pepe\" # aqui vemos la caracteristica de inmutabilidad"
     ],
     "language": "python",
     "metadata": {},
     "outputs": [
      {
       "ename": "TypeError",
       "evalue": "'tuple' object does not support item assignment",
       "output_type": "pyerr",
       "traceback": [
        "\u001b[1;31m---------------------------------------------------------------------------\u001b[0m\n\u001b[1;31mTypeError\u001b[0m                                 Traceback (most recent call last)",
        "\u001b[1;32m<ipython-input-53-223c672a80f5>\u001b[0m in \u001b[0;36m<module>\u001b[1;34m()\u001b[0m\n\u001b[1;32m----> 1\u001b[1;33m \u001b[0mtup2\u001b[0m\u001b[1;33m[\u001b[0m\u001b[1;36m1\u001b[0m\u001b[1;33m]\u001b[0m \u001b[1;33m=\u001b[0m \u001b[1;34m\"pepe\"\u001b[0m\u001b[1;33m\u001b[0m\u001b[0m\n\u001b[0m",
        "\u001b[1;31mTypeError\u001b[0m: 'tuple' object does not support item assignment"
       ]
      }
     ],
     "prompt_number": 53
    },
    {
     "cell_type": "code",
     "collapsed": false,
     "input": [
      "tup1 = (1,2,3,4,5,6,7,8,9)\n",
      "tup2 = (\"hola\",\"mundo\",\"soy\",\"notebook\",\"de\",\"ipython\")\n",
      "z = tup1 + tup2 # \u00bfse podra?\n",
      "print(z)"
     ],
     "language": "python",
     "metadata": {},
     "outputs": [
      {
       "output_type": "stream",
       "stream": "stdout",
       "text": [
        "(1, 2, 3, 4, 5, 6, 7, 8, 9, 'hola', 'mundo', 'soy', 'notebook', 'de', 'ipython')\n"
       ]
      }
     ],
     "prompt_number": 3
    },
    {
     "cell_type": "code",
     "collapsed": false,
     "input": [
      "tup1 = (1,2,3,4,5,6,7,8,9)\n",
      "tup4 = (1.2, 2.2, 3.2, 4.2, 5.2, 6.2, 7.2, 8.2, 9.2)\n",
      "z2 = tup1 * tup4 # \u00bfse podra?"
     ],
     "language": "python",
     "metadata": {},
     "outputs": [
      {
       "ename": "TypeError",
       "evalue": "can't multiply sequence by non-int of type 'tuple'",
       "output_type": "pyerr",
       "traceback": [
        "\u001b[1;31m---------------------------------------------------------------------------\u001b[0m\n\u001b[1;31mTypeError\u001b[0m                                 Traceback (most recent call last)",
        "\u001b[1;32m<ipython-input-4-177bf7b09886>\u001b[0m in \u001b[0;36m<module>\u001b[1;34m()\u001b[0m\n\u001b[0;32m      1\u001b[0m \u001b[0mtup1\u001b[0m \u001b[1;33m=\u001b[0m \u001b[1;33m(\u001b[0m\u001b[1;36m1\u001b[0m\u001b[1;33m,\u001b[0m\u001b[1;36m2\u001b[0m\u001b[1;33m,\u001b[0m\u001b[1;36m3\u001b[0m\u001b[1;33m,\u001b[0m\u001b[1;36m4\u001b[0m\u001b[1;33m,\u001b[0m\u001b[1;36m5\u001b[0m\u001b[1;33m,\u001b[0m\u001b[1;36m6\u001b[0m\u001b[1;33m,\u001b[0m\u001b[1;36m7\u001b[0m\u001b[1;33m,\u001b[0m\u001b[1;36m8\u001b[0m\u001b[1;33m,\u001b[0m\u001b[1;36m9\u001b[0m\u001b[1;33m)\u001b[0m\u001b[1;33m\u001b[0m\u001b[0m\n\u001b[0;32m      2\u001b[0m \u001b[0mtup4\u001b[0m \u001b[1;33m=\u001b[0m \u001b[1;33m(\u001b[0m\u001b[1;36m1.2\u001b[0m\u001b[1;33m,\u001b[0m \u001b[1;36m2.2\u001b[0m\u001b[1;33m,\u001b[0m \u001b[1;36m3.2\u001b[0m\u001b[1;33m,\u001b[0m \u001b[1;36m4.2\u001b[0m\u001b[1;33m,\u001b[0m \u001b[1;36m5.2\u001b[0m\u001b[1;33m,\u001b[0m \u001b[1;36m6.2\u001b[0m\u001b[1;33m,\u001b[0m \u001b[1;36m7.2\u001b[0m\u001b[1;33m,\u001b[0m \u001b[1;36m8.2\u001b[0m\u001b[1;33m,\u001b[0m \u001b[1;36m9.2\u001b[0m\u001b[1;33m)\u001b[0m\u001b[1;33m\u001b[0m\u001b[0m\n\u001b[1;32m----> 3\u001b[1;33m \u001b[0mz2\u001b[0m \u001b[1;33m=\u001b[0m \u001b[0mtup1\u001b[0m \u001b[1;33m*\u001b[0m \u001b[0mtup4\u001b[0m \u001b[1;31m# \u00bfse podra?\u001b[0m\u001b[1;33m\u001b[0m\u001b[0m\n\u001b[0m",
        "\u001b[1;31mTypeError\u001b[0m: can't multiply sequence by non-int of type 'tuple'"
       ]
      }
     ],
     "prompt_number": 4
    },
    {
     "cell_type": "code",
     "collapsed": false,
     "input": [
      "tup1 = (1,2,3,4,5,6,7,8,9)\n",
      "tup4 = (1.2, 2.2, 3.2, 4.2, 5.2, 6.2, 7.2, 8.2, 9.2)\n",
      "z3 = tup1 / tup4 # \u00bfse podra?"
     ],
     "language": "python",
     "metadata": {},
     "outputs": [
      {
       "ename": "TypeError",
       "evalue": "unsupported operand type(s) for /: 'tuple' and 'tuple'",
       "output_type": "pyerr",
       "traceback": [
        "\u001b[1;31m---------------------------------------------------------------------------\u001b[0m\n\u001b[1;31mTypeError\u001b[0m                                 Traceback (most recent call last)",
        "\u001b[1;32m<ipython-input-5-70ff488c4602>\u001b[0m in \u001b[0;36m<module>\u001b[1;34m()\u001b[0m\n\u001b[0;32m      1\u001b[0m \u001b[0mtup1\u001b[0m \u001b[1;33m=\u001b[0m \u001b[1;33m(\u001b[0m\u001b[1;36m1\u001b[0m\u001b[1;33m,\u001b[0m\u001b[1;36m2\u001b[0m\u001b[1;33m,\u001b[0m\u001b[1;36m3\u001b[0m\u001b[1;33m,\u001b[0m\u001b[1;36m4\u001b[0m\u001b[1;33m,\u001b[0m\u001b[1;36m5\u001b[0m\u001b[1;33m,\u001b[0m\u001b[1;36m6\u001b[0m\u001b[1;33m,\u001b[0m\u001b[1;36m7\u001b[0m\u001b[1;33m,\u001b[0m\u001b[1;36m8\u001b[0m\u001b[1;33m,\u001b[0m\u001b[1;36m9\u001b[0m\u001b[1;33m)\u001b[0m\u001b[1;33m\u001b[0m\u001b[0m\n\u001b[0;32m      2\u001b[0m \u001b[0mtup4\u001b[0m \u001b[1;33m=\u001b[0m \u001b[1;33m(\u001b[0m\u001b[1;36m1.2\u001b[0m\u001b[1;33m,\u001b[0m \u001b[1;36m2.2\u001b[0m\u001b[1;33m,\u001b[0m \u001b[1;36m3.2\u001b[0m\u001b[1;33m,\u001b[0m \u001b[1;36m4.2\u001b[0m\u001b[1;33m,\u001b[0m \u001b[1;36m5.2\u001b[0m\u001b[1;33m,\u001b[0m \u001b[1;36m6.2\u001b[0m\u001b[1;33m,\u001b[0m \u001b[1;36m7.2\u001b[0m\u001b[1;33m,\u001b[0m \u001b[1;36m8.2\u001b[0m\u001b[1;33m,\u001b[0m \u001b[1;36m9.2\u001b[0m\u001b[1;33m)\u001b[0m\u001b[1;33m\u001b[0m\u001b[0m\n\u001b[1;32m----> 3\u001b[1;33m \u001b[0mz3\u001b[0m \u001b[1;33m=\u001b[0m \u001b[0mtup1\u001b[0m \u001b[1;33m/\u001b[0m \u001b[0mtup4\u001b[0m \u001b[1;31m# \u00bfse podra?\u001b[0m\u001b[1;33m\u001b[0m\u001b[0m\n\u001b[0m",
        "\u001b[1;31mTypeError\u001b[0m: unsupported operand type(s) for /: 'tuple' and 'tuple'"
       ]
      }
     ],
     "prompt_number": 5
    },
    {
     "cell_type": "code",
     "collapsed": false,
     "input": [
      "tup1 = (1,2,3,4,5,6,7,8,9)\n",
      "tup4 = (1.2, 2.2, 3.2, 4.2, 5.2, 6.2, 7.2, 8.2, 9.2)\n",
      "z4 = tup4 - tup1 # \u00bfse podra?"
     ],
     "language": "python",
     "metadata": {},
     "outputs": [
      {
       "ename": "TypeError",
       "evalue": "unsupported operand type(s) for -: 'tuple' and 'tuple'",
       "output_type": "pyerr",
       "traceback": [
        "\u001b[1;31m---------------------------------------------------------------------------\u001b[0m\n\u001b[1;31mTypeError\u001b[0m                                 Traceback (most recent call last)",
        "\u001b[1;32m<ipython-input-6-25889173c0ed>\u001b[0m in \u001b[0;36m<module>\u001b[1;34m()\u001b[0m\n\u001b[0;32m      1\u001b[0m \u001b[0mtup1\u001b[0m \u001b[1;33m=\u001b[0m \u001b[1;33m(\u001b[0m\u001b[1;36m1\u001b[0m\u001b[1;33m,\u001b[0m\u001b[1;36m2\u001b[0m\u001b[1;33m,\u001b[0m\u001b[1;36m3\u001b[0m\u001b[1;33m,\u001b[0m\u001b[1;36m4\u001b[0m\u001b[1;33m,\u001b[0m\u001b[1;36m5\u001b[0m\u001b[1;33m,\u001b[0m\u001b[1;36m6\u001b[0m\u001b[1;33m,\u001b[0m\u001b[1;36m7\u001b[0m\u001b[1;33m,\u001b[0m\u001b[1;36m8\u001b[0m\u001b[1;33m,\u001b[0m\u001b[1;36m9\u001b[0m\u001b[1;33m)\u001b[0m\u001b[1;33m\u001b[0m\u001b[0m\n\u001b[0;32m      2\u001b[0m \u001b[0mtup4\u001b[0m \u001b[1;33m=\u001b[0m \u001b[1;33m(\u001b[0m\u001b[1;36m1.2\u001b[0m\u001b[1;33m,\u001b[0m \u001b[1;36m2.2\u001b[0m\u001b[1;33m,\u001b[0m \u001b[1;36m3.2\u001b[0m\u001b[1;33m,\u001b[0m \u001b[1;36m4.2\u001b[0m\u001b[1;33m,\u001b[0m \u001b[1;36m5.2\u001b[0m\u001b[1;33m,\u001b[0m \u001b[1;36m6.2\u001b[0m\u001b[1;33m,\u001b[0m \u001b[1;36m7.2\u001b[0m\u001b[1;33m,\u001b[0m \u001b[1;36m8.2\u001b[0m\u001b[1;33m,\u001b[0m \u001b[1;36m9.2\u001b[0m\u001b[1;33m)\u001b[0m\u001b[1;33m\u001b[0m\u001b[0m\n\u001b[1;32m----> 3\u001b[1;33m \u001b[0mz4\u001b[0m \u001b[1;33m=\u001b[0m \u001b[0mtup4\u001b[0m \u001b[1;33m-\u001b[0m \u001b[0mtup1\u001b[0m \u001b[1;31m# \u00bfse podra?\u001b[0m\u001b[1;33m\u001b[0m\u001b[0m\n\u001b[0m",
        "\u001b[1;31mTypeError\u001b[0m: unsupported operand type(s) for -: 'tuple' and 'tuple'"
       ]
      }
     ],
     "prompt_number": 6
    },
    {
     "cell_type": "markdown",
     "metadata": {},
     "source": [
      "solo para terminar, con las tuplas pongamonos algo mas tecnicos: En realidad el constructor (constructor?) de una tupla es la coma y no los parentesis, pero por claridad y orden (zen de python) se usan los parentesis. \u00bfun ejemplo?"
     ]
    },
    {
     "cell_type": "heading",
     "level": 3,
     "metadata": {},
     "source": [
      "Listas"
     ]
    },
    {
     "cell_type": "markdown",
     "metadata": {},
     "source": [
      "Las listas son un tipo de colecci\u00f3n ordenada, se puede decir que son equivalentes a los arrays o vectores en otros lenguajes. (vaya por fin algo interesante). Las listas pueden contener varios tipos de datos, todos los que hemos revisado hasta ahora (enteros, floats, complejos, booleanos), \u00bftambien listas? , bueno vamos a probar.\n",
      "Tambien poseen algunas caracteristicas principales:\n",
      "- Mutabilidad (ya no suena tan raro)\n",
      "- Indexacion\n",
      "\n",
      "Pasemos a los ejenmplos"
     ]
    },
    {
     "cell_type": "code",
     "collapsed": false,
     "input": [
      "# definamos algunas listas\n",
      "\n",
      "list1 = [1,2,3,4,5,6,7,8,9]\n",
      "list2 = [1.2,2.2,3.3,4.4,5.5,6.6,7.7,8.8,9.9]\n",
      "list3 = [True, False, \"hola soy una lista\", 2.5, 2, 3+4j]"
     ],
     "language": "python",
     "metadata": {},
     "outputs": [],
     "prompt_number": 2
    },
    {
     "cell_type": "markdown",
     "metadata": {},
     "source": [
      "ahora veamos la indexacion"
     ]
    },
    {
     "cell_type": "code",
     "collapsed": false,
     "input": [
      "print(list1[3]) # recuerden en python empieza en cero , \u00bfentonces que optenemos?"
     ],
     "language": "python",
     "metadata": {},
     "outputs": [
      {
       "output_type": "stream",
       "stream": "stdout",
       "text": [
        "4\n"
       ]
      }
     ],
     "prompt_number": 3
    },
    {
     "cell_type": "code",
     "collapsed": false,
     "input": [
      "print(list3[0]) \n",
      "\n",
      "# que tipo es ese elemento\n",
      "\n",
      "type(list3[0])"
     ],
     "language": "python",
     "metadata": {},
     "outputs": [
      {
       "output_type": "stream",
       "stream": "stdout",
       "text": [
        "True\n"
       ]
      },
      {
       "metadata": {},
       "output_type": "pyout",
       "prompt_number": 6,
       "text": [
        "bool"
       ]
      }
     ],
     "prompt_number": 6
    },
    {
     "cell_type": "code",
     "collapsed": false,
     "input": [
      "# \u00bfsolo puedo indexar un elemento? - Pues no, tambien rangos\n",
      "\n",
      "print(list1[1:5]) "
     ],
     "language": "python",
     "metadata": {},
     "outputs": [
      {
       "output_type": "stream",
       "stream": "stdout",
       "text": [
        "[2, 3, 4, 5]\n"
       ]
      }
     ],
     "prompt_number": 8
    },
    {
     "cell_type": "markdown",
     "metadata": {},
     "source": [
      "notan algo peculiar en la salida, el rango dice 1 - 5 viendo la lista seria : 2,3,4,5,6\n",
      "pero se nos perdio el 6, no ,lo que pasa es que obvia el ultimo termino. \u00a1CUIDADO CON OLVIDAR ESO!"
     ]
    },
    {
     "cell_type": "code",
     "collapsed": false,
     "input": [
      "# mas indexacion\n",
      "\n",
      "print(list3[:3])\n",
      "print(list3[3:])"
     ],
     "language": "python",
     "metadata": {},
     "outputs": [
      {
       "output_type": "stream",
       "stream": "stdout",
       "text": [
        "[True, False, 'hola soy una lista']\n",
        "[2.5, 2, (3+4j)]\n"
       ]
      }
     ],
     "prompt_number": 9
    },
    {
     "cell_type": "markdown",
     "metadata": {},
     "source": [
      "aqui tenemos dos indexaciones, la primera toma el rango desde el inicio hasta el elemnto \u00bf2 o 3? ... ; la segunda indexacion toma los valores desde el elemento 3 hasta el ultimo. Aya claro era obvio, oye espera, como que tomo el ultimo elemnto, si se supone que no lo hace."
     ]
    },
    {
     "cell_type": "markdown",
     "metadata": {},
     "source": [
      "OK, yo soy inteligente, entonces si hago print(list1[:]) obtengo toda la lista. Pues probemos"
     ]
    },
    {
     "cell_type": "code",
     "collapsed": false,
     "input": [
      "list1 = [1,2,3,4,5,6]\n",
      "print(list1[:]) "
     ],
     "language": "python",
     "metadata": {},
     "outputs": [
      {
       "output_type": "stream",
       "stream": "stdout",
       "text": [
        "[1, 2, 3, 4, 5, 6]\n"
       ]
      }
     ],
     "prompt_number": 8
    },
    {
     "cell_type": "markdown",
     "metadata": {},
     "source": [
      "quedo la pregunta pendiente de si podiamos meter listas dentro de otras listas, pues vamos a ver"
     ]
    },
    {
     "cell_type": "code",
     "collapsed": false,
     "input": [
      "# lista dentro de lista\n",
      "\n",
      "list4 = [[1,2,3], 3, 4, 5]\n",
      "print(list4)"
     ],
     "language": "python",
     "metadata": {},
     "outputs": [
      {
       "output_type": "stream",
       "stream": "stdout",
       "text": [
        "[[1, 2, 3], 3, 4, 5]\n"
       ]
      }
     ],
     "prompt_number": 10
    },
    {
     "cell_type": "markdown",
     "metadata": {},
     "source": [
      "Funciono, ahora si podemos intentar algo, yo recuerdo que estos tipos de estructuras eran como los vectores en otros lenguajes, pero \u00bfpueden ser multidimencionales?, veamos"
     ]
    },
    {
     "cell_type": "code",
     "collapsed": false,
     "input": [
      "# listas multidimensionales o \u00bfarrays multidimencionales?\n",
      "\n",
      "vec = [[1,2,3,4],[5,6,7,8],[9,10,11,12]]\n",
      "print(vec)"
     ],
     "language": "python",
     "metadata": {},
     "outputs": [
      {
       "output_type": "stream",
       "stream": "stdout",
       "text": [
        "[[1, 2, 3, 4], [5, 6, 7, 8], [9, 10, 11, 12]]\n"
       ]
      }
     ],
     "prompt_number": 11
    },
    {
     "cell_type": "code",
     "collapsed": false,
     "input": [
      "print(vec[1]) # indexando"
     ],
     "language": "python",
     "metadata": {},
     "outputs": [
      {
       "output_type": "stream",
       "stream": "stdout",
       "text": [
        "[5, 6, 7, 8]\n"
       ]
      }
     ],
     "prompt_number": 12
    },
    {
     "cell_type": "markdown",
     "metadata": {},
     "source": [
      "ok, es igual a las listas normales, porque la lista es un elemento, pero yo quiero el 6, no toda la lista, \u00bfque hago?"
     ]
    },
    {
     "cell_type": "markdown",
     "metadata": {},
     "source": [
      "Es momento de pasarte un conocimiento secreto, una forma de indexar listas dentro de listas"
     ]
    },
    {
     "cell_type": "code",
     "collapsed": false,
     "input": [
      "vec = [[1,2,3,4],[5,6,7,8],[9,10,11,12]]\n",
      "print(vec[1][1])"
     ],
     "language": "python",
     "metadata": {},
     "outputs": [
      {
       "output_type": "stream",
       "stream": "stdout",
       "text": [
        "6\n"
       ]
      }
     ],
     "prompt_number": 9
    },
    {
     "cell_type": "markdown",
     "metadata": {},
     "source": [
      "WOW, ahora que lo s\u00e9, parece tan obvio, pero yo soy revelde e ingenioso, que pasa si hago esto: lista dentro de lista dentro de lista. "
     ]
    },
    {
     "cell_type": "code",
     "collapsed": false,
     "input": [
      "# lista en lista en lista\n",
      "vec3 = [1,2,3,[22,33,2+3j,[44,55,66]]]\n",
      "# usando el metodo secreto ...\n",
      "print(vec3[3][3][1])"
     ],
     "language": "python",
     "metadata": {},
     "outputs": [
      {
       "output_type": "stream",
       "stream": "stdout",
       "text": [
        "55\n"
       ]
      }
     ],
     "prompt_number": 11
    },
    {
     "cell_type": "markdown",
     "metadata": {},
     "source": [
      "Pero las listas no solo pueden ser indexadas tambien son mutables como habiamos mencionado"
     ]
    },
    {
     "cell_type": "code",
     "collapsed": false,
     "input": [
      "# mutabilidad\n",
      "lis = [12,23,34]\n",
      "print(lis)\n",
      "# ahora cambiemos un elemento\n",
      "lis[0] = 555\n",
      "print(lis)"
     ],
     "language": "python",
     "metadata": {},
     "outputs": [
      {
       "output_type": "stream",
       "stream": "stdout",
       "text": [
        "[12, 23, 34]\n",
        "[555, 23, 34]\n"
       ]
      }
     ],
     "prompt_number": 14
    },
    {
     "cell_type": "markdown",
     "metadata": {},
     "source": [
      "tambien podemos usar la indexacion por rangos para esto"
     ]
    },
    {
     "cell_type": "code",
     "collapsed": false,
     "input": [
      "# reemplazando rangos\n",
      "rango = [1,2,3,4,5,6]\n",
      "print(rango)\n",
      "rango[1:4] = 22,33,44\n",
      "print(rango)"
     ],
     "language": "python",
     "metadata": {},
     "outputs": [
      {
       "output_type": "stream",
       "stream": "stdout",
       "text": [
        "[1, 2, 3, 4, 5, 6]\n",
        "[1, 22, 33, 44, 5, 6]\n"
       ]
      }
     ],
     "prompt_number": 15
    },
    {
     "cell_type": "markdown",
     "metadata": {},
     "source": [
      "espera un moemnto tengo una idea, yo recuerdo que el contructor de las tuplas es la coma, entonces puedo usar una tupla para esto"
     ]
    },
    {
     "cell_type": "code",
     "collapsed": false,
     "input": [
      "# definimos tupla\n",
      "tupla = (22,33,44,55)\n",
      "#definimos la lista\n",
      "lista = [1,2,3,4,5,6,78,9]\n",
      "print(lista)\n",
      "#ahora hacemos el reemplazo\n",
      "lista[0:4] = tupla\n",
      "print(lista)"
     ],
     "language": "python",
     "metadata": {},
     "outputs": [
      {
       "output_type": "stream",
       "stream": "stdout",
       "text": [
        "[1, 2, 3, 4, 5, 6, 78, 9]\n",
        "[22, 33, 44, 55, 5, 6, 78, 9]\n"
       ]
      }
     ],
     "prompt_number": 17
    },
    {
     "cell_type": "markdown",
     "metadata": {},
     "source": [
      "Ahora bien, las listas poseen una caraceristica especial podriamos decir, me refiero a que poseen metodos, \u00bfmetodos?"
     ]
    },
    {
     "cell_type": "markdown",
     "metadata": {},
     "source": [
      "Mas adelante veremos con mas detalle, lo referido a los metodos, pero por ahora solo revisaremos los referentes a las listas"
     ]
    },
    {
     "cell_type": "markdown",
     "metadata": {},
     "source": [
      "Las listas poseen:\n",
      "- .append()\n",
      "- .count()\n",
      "- .extend()\n",
      "- .index()\n",
      "- .insert()\n",
      "- .pop()\n",
      "- .remove()\n",
      "- .reverse()"
     ]
    },
    {
     "cell_type": "heading",
     "level": 4,
     "metadata": {},
     "source": [
      ".append"
     ]
    },
    {
     "cell_type": "markdown",
     "metadata": {},
     "source": [
      "nos pemite agregar un elemento al final de la lista"
     ]
    },
    {
     "cell_type": "code",
     "collapsed": false,
     "input": [
      "#creamos una lista\n",
      "lista2 = [1,2,3]\n",
      "print(lista2)\n",
      "#agregamos\n",
      "lista2.append(23)\n",
      "print(lista2)"
     ],
     "language": "python",
     "metadata": {},
     "outputs": [
      {
       "output_type": "stream",
       "stream": "stdout",
       "text": [
        "[1, 2, 3]\n",
        "[1, 2, 3, 23]\n"
       ]
      }
     ],
     "prompt_number": 2
    },
    {
     "cell_type": "markdown",
     "metadata": {},
     "source": [
      "y si coloco una tupla, \u00bfque sucede? se agregan varios elementos correspondientes a los contenidos en la tupla, o se agrega la tupla como unico elemento."
     ]
    },
    {
     "cell_type": "code",
     "collapsed": false,
     "input": [
      "# definimos una lista\n",
      "li = [1,2,3]\n",
      "#ahora la tupla\n",
      "tu = (22,23)\n",
      "li.append(tu)\n",
      "print(li)"
     ],
     "language": "python",
     "metadata": {},
     "outputs": [
      {
       "output_type": "stream",
       "stream": "stdout",
       "text": [
        "[1, 2, 3, (22, 23)]\n"
       ]
      }
     ],
     "prompt_number": 12
    },
    {
     "cell_type": "heading",
     "level": 4,
     "metadata": {},
     "source": [
      ".count"
     ]
    },
    {
     "cell_type": "markdown",
     "metadata": {},
     "source": [
      "Su sintaxis es la siguiente: lista.count(valor); lo que devuelve es la cantidad de veces que se encontro \"valor\" dentro de la lista"
     ]
    },
    {
     "cell_type": "code",
     "collapsed": false,
     "input": [
      "#definimos una lista\n",
      "lis2 = [1,2,3,2,4,3,5,6]\n",
      "y = lis2.count(3)\n",
      "print(y)"
     ],
     "language": "python",
     "metadata": {},
     "outputs": [
      {
       "output_type": "stream",
       "stream": "stdout",
       "text": [
        "2\n"
       ]
      }
     ],
     "prompt_number": 3
    },
    {
     "cell_type": "code",
     "collapsed": false,
     "input": [
      "x = lis2.count(6)\n",
      "print(x)"
     ],
     "language": "python",
     "metadata": {},
     "outputs": [
      {
       "output_type": "stream",
       "stream": "stdout",
       "text": [
        "1\n"
       ]
      }
     ],
     "prompt_number": 4
    },
    {
     "cell_type": "code",
     "collapsed": false,
     "input": [
      "lis2.append((22,33))\n",
      "s = lis2.count((22,33))\n",
      "print(s)"
     ],
     "language": "python",
     "metadata": {},
     "outputs": [
      {
       "output_type": "stream",
       "stream": "stdout",
       "text": [
        "1\n"
       ]
      }
     ],
     "prompt_number": 12
    },
    {
     "cell_type": "heading",
     "level": 4,
     "metadata": {},
     "source": [
      ".extend"
     ]
    },
    {
     "cell_type": "markdown",
     "metadata": {},
     "source": [
      "Su sintaxis es : lista.extend(iterable) , agregando los valores dentro del iterable a la lista"
     ]
    },
    {
     "cell_type": "code",
     "collapsed": false,
     "input": [
      "#definimos una lista\n",
      "lis3 = [2+5j, 33+7j, 23]\n",
      "#definimos el iterable\n",
      "k = (1,2,3)\n",
      "lis3.extend(k)\n",
      "print(lis3)"
     ],
     "language": "python",
     "metadata": {},
     "outputs": [
      {
       "output_type": "stream",
       "stream": "stdout",
       "text": [
        "[(2+5j), (33+7j), 23, 1, 2, 3]\n"
       ]
      }
     ],
     "prompt_number": 13
    },
    {
     "cell_type": "code",
     "collapsed": false,
     "input": [
      "#definimos otra lista\n",
      "h = [33,44,55]\n",
      "lis3.extend(h)\n",
      "print(lis3)"
     ],
     "language": "python",
     "metadata": {},
     "outputs": [
      {
       "output_type": "stream",
       "stream": "stdout",
       "text": [
        "[(2+5j), (33+7j), 23, 1, 2, 3, 33, 44, 55]\n"
       ]
      }
     ],
     "prompt_number": 14
    },
    {
     "cell_type": "heading",
     "level": 4,
     "metadata": {},
     "source": [
      ".index"
     ]
    },
    {
     "cell_type": "markdown",
     "metadata": {},
     "source": [
      "Su sintaxis es : lista.index(valor,start,stop) devuelve la posicion donde se encuentra la primera ocurencia de \"valor\", ademas \"start\" y \"stop\" definen un rango o sublista donde realizar la busqueda"
     ]
    },
    {
     "cell_type": "code",
     "collapsed": false,
     "input": [
      "#definimos una lista\n",
      "lis4 = [1,2,3,4,5,6,3,7,8,9]\n",
      "d = lis4.index(3)\n",
      "print(d)"
     ],
     "language": "python",
     "metadata": {},
     "outputs": [
      {
       "output_type": "stream",
       "stream": "stdout",
       "text": [
        "2\n"
       ]
      }
     ],
     "prompt_number": 15
    },
    {
     "cell_type": "code",
     "collapsed": false,
     "input": [
      "e = lis4.index(3,3,8)\n",
      "print(e)"
     ],
     "language": "python",
     "metadata": {},
     "outputs": [
      {
       "output_type": "stream",
       "stream": "stdout",
       "text": [
        "6\n"
       ]
      }
     ],
     "prompt_number": 16
    },
    {
     "cell_type": "heading",
     "level": 4,
     "metadata": {},
     "source": [
      ".insert"
     ]
    },
    {
     "cell_type": "markdown",
     "metadata": {},
     "source": [
      "Su sintaxis es : lista.insert(indice,objeto) , inserta el \"objeto\" en la posicion \"indice\""
     ]
    },
    {
     "cell_type": "code",
     "collapsed": false,
     "input": [
      "#definimos una lista\n",
      "lis5 = [2,3,4,5,6]\n",
      "lis5.insert(3,35)\n",
      "print(lis5)"
     ],
     "language": "python",
     "metadata": {},
     "outputs": [
      {
       "output_type": "stream",
       "stream": "stdout",
       "text": [
        "[2, 3, 4, 35, 5, 6]\n"
       ]
      }
     ],
     "prompt_number": 17
    },
    {
     "cell_type": "code",
     "collapsed": false,
     "input": [
      "lis5.insert(4,(2,3))\n",
      "print(lis5)"
     ],
     "language": "python",
     "metadata": {},
     "outputs": [
      {
       "output_type": "stream",
       "stream": "stdout",
       "text": [
        "[2, 3, 4, 35, (2, 3), 5, 6]\n"
       ]
      }
     ],
     "prompt_number": 18
    },
    {
     "cell_type": "heading",
     "level": 4,
     "metadata": {},
     "source": [
      ".pop"
     ]
    },
    {
     "cell_type": "markdown",
     "metadata": {},
     "source": [
      "Su sintaxis es : lista.pop(indice) ; devuelve el valor en la posicion \"indice\" y lo elimina, en caso de obviar el parametro \"indice\" se toma el ultimo elemento"
     ]
    },
    {
     "cell_type": "code",
     "collapsed": false,
     "input": [
      "#definimos una lista\n",
      "lis6 = [1,2,3,4,5]\n",
      "lis6.pop(2)\n",
      "#print(lis6)"
     ],
     "language": "python",
     "metadata": {},
     "outputs": [
      {
       "metadata": {},
       "output_type": "pyout",
       "prompt_number": 20,
       "text": [
        "3"
       ]
      }
     ],
     "prompt_number": 20
    },
    {
     "cell_type": "code",
     "collapsed": false,
     "input": [
      "lis6.pop()\n",
      "#print(lis6)"
     ],
     "language": "python",
     "metadata": {},
     "outputs": [
      {
       "metadata": {},
       "output_type": "pyout",
       "prompt_number": 21,
       "text": [
        "5"
       ]
      }
     ],
     "prompt_number": 21
    },
    {
     "cell_type": "heading",
     "level": 4,
     "metadata": {},
     "source": [
      ".remove"
     ]
    },
    {
     "cell_type": "markdown",
     "metadata": {},
     "source": [
      "Su sintaxis es : lista.remove(valor) ; remueve la primera ocurrencia de \"valor\""
     ]
    },
    {
     "cell_type": "code",
     "collapsed": false,
     "input": [
      "#definimos una lista\n",
      "lis7 = [22,33,44,55,33,2]\n",
      "lis7.remove(33)\n",
      "print(lis7)"
     ],
     "language": "python",
     "metadata": {},
     "outputs": [
      {
       "output_type": "stream",
       "stream": "stdout",
       "text": [
        "[22, 44, 55, 33, 2]\n"
       ]
      }
     ],
     "prompt_number": 23
    },
    {
     "cell_type": "heading",
     "level": 4,
     "metadata": {},
     "source": [
      ".reverse"
     ]
    },
    {
     "cell_type": "markdown",
     "metadata": {},
     "source": [
      "Su sintaxis es : lista.reverse() ; invierte la lista sobre la que se invoca el metodo"
     ]
    },
    {
     "cell_type": "code",
     "collapsed": false,
     "input": [
      "#definimos una lista \n",
      "li_1 = [1,2,3,4,5,6,7,8,9]\n",
      "li_1.reverse() \n",
      "print(li_1)"
     ],
     "language": "python",
     "metadata": {},
     "outputs": [
      {
       "output_type": "stream",
       "stream": "stdout",
       "text": [
        "[9, 8, 7, 6, 5, 4, 3, 2, 1]\n"
       ]
      }
     ],
     "prompt_number": 24
    },
    {
     "cell_type": "heading",
     "level": 3,
     "metadata": {},
     "source": [
      "Diccionarios"
     ]
    },
    {
     "cell_type": "markdown",
     "metadata": {},
     "source": [
      "Los diccionarios son tambien estructuras de datos, pero a diferencia de las listas que pueden ser comparadas con los arrays, los diccionarios son matrices asociativas de clave-valor. Tambien poseen caracteristicas especiales:\n",
      "- Son mutables\n",
      "- No son indexables"
     ]
    },
    {
     "cell_type": "code",
     "collapsed": false,
     "input": [
      "# definamos un diccionario\n",
      "dic1 = {1:\"hola\", \"dos\":23,2+2j:2.2}\n",
      "print(dic1)"
     ],
     "language": "python",
     "metadata": {},
     "outputs": [
      {
       "output_type": "stream",
       "stream": "stdout",
       "text": [
        "{(2+2j): 2.2, 1: 'hola', 'dos': 23}\n"
       ]
      }
     ],
     "prompt_number": 1
    },
    {
     "cell_type": "markdown",
     "metadata": {},
     "source": [
      "como vemos se usan pares de clave valor, dentro de llaves. {clave:valor}, y se usa esa clave para acceder al valor asociado"
     ]
    },
    {
     "cell_type": "code",
     "collapsed": false,
     "input": [
      "print(dic1[\"dos\"])"
     ],
     "language": "python",
     "metadata": {},
     "outputs": [
      {
       "output_type": "stream",
       "stream": "stdout",
       "text": [
        "23\n"
       ]
      }
     ],
     "prompt_number": 3
    },
    {
     "cell_type": "code",
     "collapsed": false,
     "input": [
      "print(dic1[1])"
     ],
     "language": "python",
     "metadata": {},
     "outputs": [
      {
       "output_type": "stream",
       "stream": "stdout",
       "text": [
        "hola\n"
       ]
      }
     ],
     "prompt_number": 4
    },
    {
     "cell_type": "code",
     "collapsed": false,
     "input": [
      "print(dic1[2+2j])"
     ],
     "language": "python",
     "metadata": {},
     "outputs": [
      {
       "output_type": "stream",
       "stream": "stdout",
       "text": [
        "2.2\n"
       ]
      }
     ],
     "prompt_number": 5
    },
    {
     "cell_type": "markdown",
     "metadata": {},
     "source": [
      "como vemos se puede acceder a cada elemento con facilidad, lamentablemente no se pueden acceder por rangos como se hacian con las listas y tuplas ya que, los diccionarios no tienen un orden realmente, solo existe la asociaci\u00f3n clave-valor."
     ]
    },
    {
     "cell_type": "markdown",
     "metadata": {},
     "source": [
      "ahora veamos la mutabilidad"
     ]
    },
    {
     "cell_type": "code",
     "collapsed": false,
     "input": [
      "#definimos diccionario\n",
      "dic2 = {1:\"hola\",2:\"mundo\",3:\"python\"}\n",
      "#ahora reemplazamos un elemento\n",
      "dic2[1] = \"chau\"\n",
      "print(dic2)"
     ],
     "language": "python",
     "metadata": {},
     "outputs": [
      {
       "output_type": "stream",
       "stream": "stdout",
       "text": [
        "{1: 'chau', 2: 'mundo', 3: 'python'}\n"
       ]
      }
     ],
     "prompt_number": 6
    },
    {
     "cell_type": "markdown",
     "metadata": {},
     "source": [
      "algo que si comparte con las listas es que tambien posee metodos.\n",
      "- .get()\n",
      "- .items()\n",
      "- .keys()\n",
      "- .pop()\n",
      "- .values()"
     ]
    },
    {
     "cell_type": "heading",
     "level": 4,
     "metadata": {},
     "source": [
      ".get"
     ]
    },
    {
     "cell_type": "markdown",
     "metadata": {},
     "source": [
      "Sintaxis : dicionario.get(k,v_defecto) ; es como hacer un simple diccionario[k] con la unica ventaja, de que si no halla dicha clave \"v_defecto\" se devuelve como valor, en vez de que se produsca una excepcion (error)."
     ]
    },
    {
     "cell_type": "code",
     "collapsed": false,
     "input": [
      "#definimos diccionario\n",
      "dicto = {1:12,2:23,3:34}\n",
      "x = dicto.get(2,\"no existe la clave\") #pasamos una clave existente\n",
      "print(x)\n",
      "dicto.get(22,\"no existe la clave\") #pasamos una clave inexistente"
     ],
     "language": "python",
     "metadata": {},
     "outputs": [
      {
       "output_type": "stream",
       "stream": "stdout",
       "text": [
        "23\n"
       ]
      },
      {
       "metadata": {},
       "output_type": "pyout",
       "prompt_number": 9,
       "text": [
        "'no existe la clave'"
       ]
      }
     ],
     "prompt_number": 9
    },
    {
     "cell_type": "heading",
     "level": 4,
     "metadata": {},
     "source": [
      ".items"
     ]
    },
    {
     "cell_type": "markdown",
     "metadata": {},
     "source": [
      "Sintaxis : diccionario.items() ; devuelve una lista de tuplas con pares clave-valor"
     ]
    },
    {
     "cell_type": "code",
     "collapsed": false,
     "input": [
      "#definimos un diccionario\n",
      "dicto2 = {1:23,2:34,4:\"valor\",\"clave\":\"numero\"}\n",
      "w = dicto2.items()\n",
      "print(w)"
     ],
     "language": "python",
     "metadata": {},
     "outputs": [
      {
       "output_type": "stream",
       "stream": "stdout",
       "text": [
        "dict_items([(1, 23), (2, 34), ('clave', 'numero'), (4, 'valor')])\n"
       ]
      }
     ],
     "prompt_number": 13
    },
    {
     "cell_type": "markdown",
     "metadata": {},
     "source": [
      "a pesar de ser una lista en apariencia, en realidad no lo es, ya que no podemos indexar sus elementos. \u00bfentoces que es? pues sigue siendo un objeto tipo diccionario, pero podemos usar un operador de pertenencia \"in\""
     ]
    },
    {
     "cell_type": "code",
     "collapsed": false,
     "input": [
      "# pertenencia\n",
      "(1,23) in w"
     ],
     "language": "python",
     "metadata": {},
     "outputs": [
      {
       "metadata": {},
       "output_type": "pyout",
       "prompt_number": 17,
       "text": [
        "True"
       ]
      }
     ],
     "prompt_number": 17
    },
    {
     "cell_type": "heading",
     "level": 4,
     "metadata": {},
     "source": [
      ".keys"
     ]
    },
    {
     "cell_type": "markdown",
     "metadata": {},
     "source": [
      "Sintaxis : diccionario.keys() ; devuelve una lista de las claves del diccionario"
     ]
    },
    {
     "cell_type": "code",
     "collapsed": false,
     "input": [
      "#definimos un diccionario\n",
      "dic3 = {1:2,2:3,3:4,4:5}\n",
      "s = dic3.keys()\n",
      "print(s)"
     ],
     "language": "python",
     "metadata": {},
     "outputs": [
      {
       "output_type": "stream",
       "stream": "stdout",
       "text": [
        "dict_keys([1, 2, 3, 4])\n"
       ]
      }
     ],
     "prompt_number": 20
    },
    {
     "cell_type": "code",
     "collapsed": false,
     "input": [
      "2 in s # no es realmente una lista OJO"
     ],
     "language": "python",
     "metadata": {},
     "outputs": [
      {
       "metadata": {},
       "output_type": "pyout",
       "prompt_number": 23,
       "text": [
        "True"
       ]
      }
     ],
     "prompt_number": 23
    },
    {
     "cell_type": "heading",
     "level": 4,
     "metadata": {},
     "source": [
      ".pop"
     ]
    },
    {
     "cell_type": "markdown",
     "metadata": {},
     "source": [
      "Sintaxis : diccionario.pop(k,valor) ; borra la clave \"k\" del diccionario y devuelve su valor, en caso de no encontrar la clave devuelve \"valor\" , si no es especificado este valor entonces se producira una excepcion."
     ]
    },
    {
     "cell_type": "code",
     "collapsed": false,
     "input": [
      "#definimos un diccionario\n",
      "dic = {\"a\":1,\"b\":2,\"c\":3,\"d\":4}\n",
      "w = dic.pop(3,\"no existe\") # pasamos una clave inexistente\n",
      "print(w)\n",
      "z = dic.pop(\"a\",\"no existe\") # pasamos una clave existente\n",
      "print(z)"
     ],
     "language": "python",
     "metadata": {},
     "outputs": [
      {
       "output_type": "stream",
       "stream": "stdout",
       "text": [
        "no existe\n",
        "1\n"
       ]
      }
     ],
     "prompt_number": 26
    },
    {
     "cell_type": "heading",
     "level": 4,
     "metadata": {},
     "source": [
      ".values"
     ]
    },
    {
     "cell_type": "markdown",
     "metadata": {},
     "source": [
      "Sintaxis : diccionario.values() ; develve una lista de valores del diccionario"
     ]
    },
    {
     "cell_type": "code",
     "collapsed": false,
     "input": [
      "#definimos un diccionario\n",
      "dic4 = {\"uno\":1,\"dos\":2,\"tres\":3,\"cuatro\":4}\n",
      "valor = dic4.values()\n",
      "print(valor)"
     ],
     "language": "python",
     "metadata": {},
     "outputs": [
      {
       "output_type": "stream",
       "stream": "stdout",
       "text": [
        "dict_values([1, 3, 4, 2])\n"
       ]
      }
     ],
     "prompt_number": 29
    },
    {
     "cell_type": "heading",
     "level": 3,
     "metadata": {},
     "source": [
      "Strings"
     ]
    },
    {
     "cell_type": "markdown",
     "metadata": {},
     "source": [
      "Las cadenas no son mas que texto encerrado por comillas simples o dobles. \n",
      "$x_{2}$"
     ]
    },
    {
     "cell_type": "code",
     "collapsed": false,
     "input": [
      "#ejemplos sencillos\n",
      "string = \"hola\"\n",
      "string2 = \"puedo contener varias palabras\"\n",
      "print(string)\n",
      "print(string2)"
     ],
     "language": "python",
     "metadata": {},
     "outputs": [
      {
       "output_type": "stream",
       "stream": "stdout",
       "text": [
        "hola\n",
        "puedo contener varias palabras\n"
       ]
      }
     ],
     "prompt_number": 1
    },
    {
     "cell_type": "markdown",
     "metadata": {},
     "source": [
      "Los strings tambien poseen metodos: Poseen una gran cantidad, aqui solo veremos los mas importantes respecto al uso de un posible uso en ciencias, para obtener una lista mas amplia de los metodos se puede ver la documentacion oficial en el siguiente enlace: https://docs.python.org/3/library/stdtypes.html#string-methods\n",
      "- .capitalize()\n",
      "- .casefold()\n",
      "- .center()\n",
      "- ."
     ]
    },
    {
     "cell_type": "heading",
     "level": 2,
     "metadata": {},
     "source": [
      "Condicionales"
     ]
    },
    {
     "cell_type": "markdown",
     "metadata": {},
     "source": [
      "Dentro de los condicionales tenemos los tradicionales: \"if\", \"else\" y uno especial \"elif\" que es una contraccion de \"else\" y luego \"if\""
     ]
    },
    {
     "cell_type": "code",
     "collapsed": false,
     "input": [
      "#definamos algunas listas\n",
      "lis1 = [11, 12, 13, 14, 15, 16, 17, 18, 19, 20]\n",
      "lis0 = [0, 1, 2, 3, 4, 5, 6, 7, 8, 9, 10]\n",
      "\n",
      "# preguntamos nota\n",
      "x = eval(input(\"escribe tu nota : \"))\n",
      "\n",
      "if (x in lis1):\n",
      "    print(\"estas aprobado\")\n",
      "    if (x in lis1[6:]):\n",
      "        print(\"ademas tienes una excelente nota\")\n",
      "elif (x in lis0):\n",
      "    print(\"estas desaprobado\")\n",
      "    if (x in lis0[:5]):\n",
      "        print(\"ademas tienes una muy baja nota\")"
     ],
     "language": "python",
     "metadata": {},
     "outputs": [
      {
       "name": "stdout",
       "output_type": "stream",
       "stream": "stdout",
       "text": [
        "escribe tu nota : 3\n"
       ]
      },
      {
       "output_type": "stream",
       "stream": "stdout",
       "text": [
        "estas desaprobado\n",
        "ademas tienes una muy baja nota\n"
       ]
      }
     ],
     "prompt_number": 19
    },
    {
     "cell_type": "heading",
     "level": 2,
     "metadata": {},
     "source": [
      "Bucles"
     ]
    },
    {
     "cell_type": "markdown",
     "metadata": {},
     "source": [
      "Python solo posee dos sentencias para esta tarea : for y while . El while es como en otros lenguajes pero el for posee una sintaxis algo diferente."
     ]
    },
    {
     "cell_type": "heading",
     "level": 3,
     "metadata": {},
     "source": [
      "while"
     ]
    },
    {
     "cell_type": "code",
     "collapsed": false,
     "input": [
      "x = 0 #definimos un contador\n",
      "while (x <= 10):\n",
      "    print(x)\n",
      "    x += 1"
     ],
     "language": "python",
     "metadata": {},
     "outputs": [
      {
       "output_type": "stream",
       "stream": "stdout",
       "text": [
        "0\n",
        "1\n",
        "2\n",
        "3\n",
        "4\n",
        "5\n",
        "6\n",
        "7\n",
        "8\n",
        "9\n",
        "10\n"
       ]
      }
     ],
     "prompt_number": 21
    },
    {
     "cell_type": "heading",
     "level": 3,
     "metadata": {},
     "source": [
      "for"
     ]
    },
    {
     "cell_type": "code",
     "collapsed": false,
     "input": [
      "# definimos una lista\n",
      "x = 1\n",
      "cont = [10,2,3,4,5,6,7,8,9,10]\n",
      "for n in cont:\n",
      "    print(x)\n",
      "    x += x"
     ],
     "language": "python",
     "metadata": {},
     "outputs": [
      {
       "output_type": "stream",
       "stream": "stdout",
       "text": [
        "1\n",
        "2\n",
        "4\n",
        "8\n",
        "16\n",
        "32\n",
        "64\n",
        "128\n",
        "256\n",
        "512\n"
       ]
      }
     ],
     "prompt_number": 22
    },
    {
     "cell_type": "markdown",
     "metadata": {},
     "source": [
      "no siempre es necesario usar una lista, mas adelante veremos otra forma para generar ese rango."
     ]
    },
    {
     "cell_type": "heading",
     "level": 2,
     "metadata": {},
     "source": [
      "Control de flujo"
     ]
    },
    {
     "cell_type": "markdown",
     "metadata": {},
     "source": [
      "Python posee sentencias especiales que nos permiten , por ejemplo interrumpir un bucle , es decir evitar que este llegue hasta el final. Dichas sentencias son:\n",
      "- break\n",
      "- continue\n",
      "- pass"
     ]
    },
    {
     "cell_type": "heading",
     "level": 3,
     "metadata": {},
     "source": [
      "break"
     ]
    },
    {
     "cell_type": "markdown",
     "metadata": {},
     "source": [
      "Termina el bucle for o while."
     ]
    },
    {
     "cell_type": "code",
     "collapsed": false,
     "input": [
      "for n in range(2,10):\n",
      "    for x in range(2,n):\n",
      "        if (n % x == 0):\n",
      "            print(n, \" es igual a \", x, \"*\", n/x)\n",
      "            break\n",
      "    else:\n",
      "        print(n, \" es un numero primo\")\n"
     ],
     "language": "python",
     "metadata": {},
     "outputs": [
      {
       "output_type": "stream",
       "stream": "stdout",
       "text": [
        "2  es un numero primo\n",
        "3  es un numero primo\n",
        "4  es igual a  2 * 2.0\n",
        "5  es un numero primo\n",
        "6  es igual a  2 * 3.0\n",
        "7  es un numero primo\n",
        "8  es igual a  2 * 4.0\n",
        "9  es igual a  3 * 3.0\n"
       ]
      }
     ],
     "prompt_number": 24
    },
    {
     "cell_type": "heading",
     "level": 3,
     "metadata": {},
     "source": [
      "continue"
     ]
    },
    {
     "cell_type": "markdown",
     "metadata": {},
     "source": [
      "La sentencia \"continue\" continua con la siguiente iteracion del ciclo."
     ]
    },
    {
     "cell_type": "code",
     "collapsed": false,
     "input": [
      "for num in range(2,10):\n",
      "    if (num % 2 == 0):\n",
      "        print(\"encontre un numero par\", num)\n",
      "        continue\n",
      "    print(\"encontre un numero\", num)"
     ],
     "language": "python",
     "metadata": {},
     "outputs": [
      {
       "output_type": "stream",
       "stream": "stdout",
       "text": [
        "encontre un numero par 2\n",
        "encontre un numero 3\n",
        "encontre un numero par 4\n",
        "encontre un numero 5\n",
        "encontre un numero par 6\n",
        "encontre un numero 7\n",
        "encontre un numero par 8\n",
        "encontre un numero 9\n"
       ]
      }
     ],
     "prompt_number": 27
    },
    {
     "cell_type": "heading",
     "level": 3,
     "metadata": {},
     "source": [
      "pass"
     ]
    },
    {
     "cell_type": "markdown",
     "metadata": {},
     "source": [
      "La sentencia \"pass\" no hace nada. Se puede usar como marca durante el proceso de desarrollo dealgun proyecto, y aun no hemos programado esa parte."
     ]
    },
    {
     "cell_type": "code",
     "collapsed": false,
     "input": [
      "for d in range(1,10):\n",
      "    if (d % 2 == 0):\n",
      "        print(d, \"es par\")\n",
      "    else:\n",
      "        pass"
     ],
     "language": "python",
     "metadata": {},
     "outputs": [
      {
       "output_type": "stream",
       "stream": "stdout",
       "text": [
        "2 es par\n",
        "4 es par\n",
        "6 es par\n",
        "8 es par\n"
       ]
      }
     ],
     "prompt_number": 22
    },
    {
     "cell_type": "heading",
     "level": 2,
     "metadata": {},
     "source": [
      "Manejo de excepciones"
     ]
    },
    {
     "cell_type": "markdown",
     "metadata": {},
     "source": [
      "Las excepciones en python son los errores, pero no solo se detiene el programa, y te dejan sin saber que paso. \u00a1Python es lo maximo!"
     ]
    },
    {
     "cell_type": "code",
     "collapsed": false,
     "input": [
      "#error\n",
      "1 / 0"
     ],
     "language": "python",
     "metadata": {},
     "outputs": [
      {
       "ename": "ZeroDivisionError",
       "evalue": "division by zero",
       "output_type": "pyerr",
       "traceback": [
        "\u001b[1;31m---------------------------------------------------------------------------\u001b[0m\n\u001b[1;31mZeroDivisionError\u001b[0m                         Traceback (most recent call last)",
        "\u001b[1;32m<ipython-input-18-7683e83184c4>\u001b[0m in \u001b[0;36m<module>\u001b[1;34m()\u001b[0m\n\u001b[0;32m      1\u001b[0m \u001b[1;31m#error\u001b[0m\u001b[1;33m\u001b[0m\u001b[1;33m\u001b[0m\u001b[0m\n\u001b[1;32m----> 2\u001b[1;33m \u001b[1;36m1\u001b[0m \u001b[1;33m/\u001b[0m \u001b[1;36m0\u001b[0m\u001b[1;33m\u001b[0m\u001b[0m\n\u001b[0m",
        "\u001b[1;31mZeroDivisionError\u001b[0m: division by zero"
       ]
      }
     ],
     "prompt_number": 18
    },
    {
     "cell_type": "markdown",
     "metadata": {},
     "source": [
      "como observamos, al producirse un error nos muestra el numero de la linea en la que ocurrio el error y nos muestra la linea en s\u00ed"
     ]
    },
    {
     "cell_type": "markdown",
     "metadata": {},
     "source": [
      "esta es la salida de una excepcion estandar que viene por defecto en python, pero nosotros tambien podemos definir nuestras propias excepciones"
     ]
    },
    {
     "cell_type": "code",
     "collapsed": false,
     "input": [
      "while True:\n",
      "    try:\n",
      "        x = int(input(\"Por favor ingresa un numero : \"))\n",
      "        break\n",
      "    except ValueError:\n",
      "        print(\"Oops! no era valido. Intente nuevamente : \")\n",
      "        "
     ],
     "language": "python",
     "metadata": {},
     "outputs": [
      {
       "name": "stdout",
       "output_type": "stream",
       "stream": "stdout",
       "text": [
        "Por favor ingresa un numero : 4\n"
       ]
      }
     ],
     "prompt_number": 29
    },
    {
     "cell_type": "markdown",
     "metadata": {},
     "source": [
      "aqui esperamos que se ingrese un munero, en caso de ingresar una letra o caracter se produce el error y se ejecuta el codigo de la excepcion."
     ]
    },
    {
     "cell_type": "heading",
     "level": 2,
     "metadata": {},
     "source": [
      "Funciones"
     ]
    },
    {
     "cell_type": "markdown",
     "metadata": {},
     "source": [
      "Las funciones en python cumplen las mismas tareas que en cualquier lenguaje, pero con una sintaxis diferente.Y si lo quieres hacer bien con algo mas de trabajo.\n",
      "Comensemos."
     ]
    },
    {
     "cell_type": "code",
     "collapsed": false,
     "input": [
      "#definamos dos funciones\n",
      "def SumaPares(i,f,p):\n",
      "    suma = 0\n",
      "    for n in range(i,f,p):\n",
      "        if (n % 2 == 0):\n",
      "            suma = suma + n\n",
      "    return suma\n",
      "def SumaImpares(i,f,p):\n",
      "    suma = 0\n",
      "    for n in range(i,f,p):\n",
      "        if (n % 2 != 0):\n",
      "            suma = suma + n\n",
      "    return suma\n",
      "#definimos un diccionario\n",
      "opcion = {1:SumaPares,2:SumaImpares}\n",
      "\n",
      "#pedimos datos\n",
      "x = int(input(\"Ingrese el inicio : \"))\n",
      "y = int(input(\"Ingrese el final : \"))\n",
      "z = int(input(\"ingrese el paso : \"))\n",
      "op = int(input(\"\"\"Para sumar pares escriba   : 1\n",
      "Para sumar impares escriba : 2 \n",
      "usted escogio : \"\"\"))\n",
      "opcion[op](x,y,z)"
     ],
     "language": "python",
     "metadata": {},
     "outputs": [
      {
       "name": "stdout",
       "output_type": "stream",
       "stream": "stdout",
       "text": [
        "Ingrese el inicio : 1\n"
       ]
      },
      {
       "name": "stdout",
       "output_type": "stream",
       "stream": "stdout",
       "text": [
        "Ingrese el final : 10\n"
       ]
      },
      {
       "name": "stdout",
       "output_type": "stream",
       "stream": "stdout",
       "text": [
        "ingrese el paso : 1\n"
       ]
      },
      {
       "name": "stdout",
       "output_type": "stream",
       "stream": "stdout",
       "text": [
        "Para sumar pares escriba   : 1\n",
        "Para sumar impares escriba : 2 \n",
        "usted escogio : 1\n"
       ]
      },
      {
       "metadata": {},
       "output_type": "pyout",
       "prompt_number": 31,
       "text": [
        "20"
       ]
      }
     ],
     "prompt_number": 31
    },
    {
     "cell_type": "markdown",
     "metadata": {},
     "source": [
      "como solucionar el error al no ingresar algun dato, usemos una excepcion"
     ]
    },
    {
     "cell_type": "code",
     "collapsed": false,
     "input": [
      "#definamos dos funciones\n",
      "def SumaPares(i,f,p):\n",
      "    suma = 0\n",
      "    for n in range(i,f,p):\n",
      "        if (n % 2 == 0):\n",
      "            suma = suma + n\n",
      "    return suma\n",
      "def SumaImpares(i,f,p):\n",
      "    suma = 0\n",
      "    for n in range(i,f,p):\n",
      "        if (n % 2 != 0):\n",
      "            suma = suma + n\n",
      "    return suma\n",
      "#definimos un diccionario\n",
      "opcion = {1:SumaPares,2:SumaImpares}\n",
      "\n",
      "#pedimos datos\n",
      "# primera excepcion\n",
      "try:\n",
      "    x = int(input(\"Ingrese el inicio : \"))\n",
      "except:\n",
      "    x = 0\n",
      "#segunda excepcion\n",
      "try:\n",
      "    y = int(input(\"Ingrese el final : \"))\n",
      "except:\n",
      "    print(\"Por favor pon un numero\")\n",
      "    y = int(input(\"Ingrese el final : \"))\n",
      "    #tercera excepcion\n",
      "try:\n",
      "    z = int(input(\"ingrese el paso : \"))\n",
      "except:\n",
      "    print(\"se asumira un paso de 1\")\n",
      "    z = 1\n",
      "op = int(input(\"\"\"Para sumar pares escriba   : 1\n",
      "Para sumar impares escriba : 2 \n",
      "usted escogio : \"\"\"))\n",
      "opcion[op](x,y,z)"
     ],
     "language": "python",
     "metadata": {},
     "outputs": [
      {
       "name": "stdout",
       "output_type": "stream",
       "stream": "stdout",
       "text": [
        "Ingrese el inicio : 1\n"
       ]
      },
      {
       "name": "stdout",
       "output_type": "stream",
       "stream": "stdout",
       "text": [
        "Ingrese el final : \n"
       ]
      },
      {
       "output_type": "stream",
       "stream": "stdout",
       "text": [
        "Por favor pon un numero\n"
       ]
      },
      {
       "name": "stdout",
       "output_type": "stream",
       "stream": "stdout",
       "text": [
        "Ingrese el final : 10\n"
       ]
      },
      {
       "name": "stdout",
       "output_type": "stream",
       "stream": "stdout",
       "text": [
        "ingrese el paso : \n"
       ]
      },
      {
       "output_type": "stream",
       "stream": "stdout",
       "text": [
        "se asumira un paso de 1\n"
       ]
      },
      {
       "name": "stdout",
       "output_type": "stream",
       "stream": "stdout",
       "text": [
        "Para sumar pares escriba   : 1\n",
        "Para sumar impares escriba : 2 \n",
        "usted escogio : 1\n"
       ]
      },
      {
       "metadata": {},
       "output_type": "pyout",
       "prompt_number": 44,
       "text": [
        "20"
       ]
      }
     ],
     "prompt_number": 44
    },
    {
     "cell_type": "markdown",
     "metadata": {},
     "source": [
      "tambien podemos pasarle valores por defecto a una funcion, en caso de que alguno no sea declarado y este sea necesario para su ejecucion"
     ]
    },
    {
     "cell_type": "code",
     "collapsed": false,
     "input": [
      "#definimos la funcion\n",
      "def tri(n=5):\n",
      "    for j in range (n):\n",
      "        for k in range(j):\n",
      "            print(k,end=\"\")\n",
      "        print()\n",
      "tri()"
     ],
     "language": "python",
     "metadata": {},
     "outputs": [
      {
       "output_type": "stream",
       "stream": "stdout",
       "text": [
        "\n",
        "0\n",
        "01\n",
        "012\n",
        "0123\n"
       ]
      }
     ],
     "prompt_number": 30
    },
    {
     "cell_type": "markdown",
     "metadata": {},
     "source": [
      "Bien ya sabemos declarar funciones, pero aun falta un elemento que podriamos decir que es esencial, y me refiero a la documentacion de una funcion.El nombre tecnico es \"docstring\", para lo cual veremos un ejemplo."
     ]
    },
    {
     "cell_type": "code",
     "collapsed": false,
     "input": [
      "#definamos dos funciones\n",
      "def SumaPares(i,f,p):\n",
      "    \"\"\"\n",
      "    SumaPares recibe tres parmetros:\n",
      "    i : indica el inicio para la funcio range()\n",
      "    f : indica el limite del rango para la funcion range()\n",
      "    p : indica el paso o espaciado que debe \n",
      "        tomarse entre los valores generados\n",
      "        \n",
      "    La funcion retorna la suma de todos los \n",
      "    numeros pares que se encuentren dentro \n",
      "    del rango especificado.\n",
      "    \"\"\"\n",
      "    suma = 0\n",
      "    for n in range(i,f,p):\n",
      "        if (n % 2 == 0):\n",
      "            suma = suma + n\n",
      "    return suma\n",
      "def SumaImpares(i,f,p):\n",
      "    \"\"\"\n",
      "    SumaImpares recibe tres parmetros:\n",
      "    i : indica el inicio para la funcio range()\n",
      "    f : indica el limite del rango para la funcion range()\n",
      "    p : indica el paso o espaciado que debe \n",
      "        tomarse entre los valores generados\n",
      "        \n",
      "    La funcion retorna la suma de todos los \n",
      "    numeros impares que se encuentren dentro \n",
      "    del rango especificado.\n",
      "    \"\"\"\n",
      "    suma = 0\n",
      "    for n in range(i,f,p):\n",
      "        if (n % 2 != 0):\n",
      "            suma = suma + n\n",
      "    return suma\n",
      "#definimos un diccionario\n",
      "opcion = {1:SumaPares,2:SumaImpares}\n",
      "\n",
      "#pedimos datos\n",
      "x = int(input(\"Ingrese el inicio : \"))\n",
      "y = int(input(\"Ingrese el final : \"))\n",
      "z = int(input(\"ingrese el paso : \"))\n",
      "op = int(input(\"\"\"Para sumar pares escriba   : 1\n",
      "Para sumar impares escriba : 2 \n",
      "usted escogio : \"\"\"))\n",
      "opcion[op](x,y,z)}"
     ],
     "language": "python",
     "metadata": {},
     "outputs": [
      {
       "name": "stdout",
       "output_type": "stream",
       "stream": "stdout",
       "text": [
        "Ingrese el inicio : 1\n"
       ]
      },
      {
       "name": "stdout",
       "output_type": "stream",
       "stream": "stdout",
       "text": [
        "Ingrese el final : 12\n"
       ]
      },
      {
       "name": "stdout",
       "output_type": "stream",
       "stream": "stdout",
       "text": [
        "ingrese el paso : 1\n"
       ]
      },
      {
       "name": "stdout",
       "output_type": "stream",
       "stream": "stdout",
       "text": [
        "Para sumar pares escriba   : 1\n",
        "Para sumar impares escriba : 2 \n",
        "usted escogio : 1\n"
       ]
      },
      {
       "metadata": {},
       "output_type": "pyout",
       "prompt_number": 31,
       "text": [
        "30"
       ]
      }
     ],
     "prompt_number": 31
    },
    {
     "cell_type": "heading",
     "level": 2,
     "metadata": {},
     "source": [
      "Objetos y Clases"
     ]
    },
    {
     "cell_type": "markdown",
     "metadata": {},
     "source": [
      "Python no solo es un lenguaje que trabaja de forma estructurada, ademas tambien es capaz de trabajar con orientacion a objetos o programacion funcional."
     ]
    },
    {
     "cell_type": "markdown",
     "metadata": {},
     "source": [
      "Primero revisemos como es la sintaxis general de una clase:"
     ]
    },
    {
     "cell_type": "code",
     "collapsed": false,
     "input": [
      "#definimos una clase\n",
      "\n",
      "class ClaseNombre:\n",
      "    # <declaracion-1>\n",
      "    # -\n",
      "    # -\n",
      "    # <declaracion-N>\n",
      "    pass #esta linea no es necesaria"
     ],
     "language": "python",
     "metadata": {},
     "outputs": [],
     "prompt_number": 35
    },
    {
     "cell_type": "markdown",
     "metadata": {},
     "source": [
      "Las clases pueden contener todos los tipos de datos u objetos que hemos visto hasta ahora."
     ]
    },
    {
     "cell_type": "code",
     "collapsed": false,
     "input": [
      "class MiClase:\n",
      "    \"\"\"Soy un simple ejemplo de clase\"\"\"\n",
      "    i = 1.234\n",
      "    def f(self):\n",
      "        return \"hola soy una clase\"\n",
      "\n",
      "# ahora retornemos los atributos de la clase\n",
      "x = MiClase()\n",
      "print(x.i)\n",
      "x.f()\n"
     ],
     "language": "python",
     "metadata": {},
     "outputs": [
      {
       "output_type": "stream",
       "stream": "stdout",
       "text": [
        "1.234\n"
       ]
      },
      {
       "metadata": {},
       "output_type": "pyout",
       "prompt_number": 32,
       "text": [
        "'hola soy una clase'"
       ]
      }
     ],
     "prompt_number": 32
    },
    {
     "cell_type": "markdown",
     "metadata": {},
     "source": [
      "Expliquemos lo que acabamos de hacer. la linea \" x = MiClase() \" se llama instanciar una clase, es decir asociamos todos los atributos dentro de nuestra clase a un objeto , para el ejemplo \"x\" ; como vemos tiene una notacion parecida a la de las funciones.\n",
      "Una vez instanciada la clase o mejor dicho un objeto, (ya que la clase funciona como una plantilla la cual puede asociarse a varios objetos), podemos acceder a los atributos de la clase, dichos atributos podemos separarlos en variables y metodos. La sintaxis para ello es la siguiente: nombre_clase.nombre_atributo "
     ]
    },
    {
     "cell_type": "markdown",
     "metadata": {},
     "source": [
      "Las clases poseen metodos especiales, de los cuales el mas utilizado es el siguiente: __init__ este metodo nos permite definir atributos en el momento de instanciar la clase."
     ]
    },
    {
     "cell_type": "code",
     "collapsed": false,
     "input": [
      "#definimos la clase\n",
      "class complejo:\n",
      "    def __init__(self, real, complej):\n",
      "        self.r = real\n",
      "        self.c = complej\n",
      "\n",
      "dato = complejo(33, 56)\n",
      "print(dato.r, dato.c)"
     ],
     "language": "python",
     "metadata": {},
     "outputs": [
      {
       "output_type": "stream",
       "stream": "stdout",
       "text": [
        "33 56\n"
       ]
      }
     ],
     "prompt_number": 1
    },
    {
     "cell_type": "markdown",
     "metadata": {},
     "source": [
      "ahora veamos un ejemplo de atributo compartido por todas las instancias y uno exclusivo de cada instancia"
     ]
    },
    {
     "cell_type": "code",
     "collapsed": false,
     "input": [
      "class Alumnos:\n",
      "    grado = \"primaria\"\n",
      "    def __init__(self,nom,edad):\n",
      "        self.nom = nom\n",
      "        self.edad = edad\n",
      "#instanciamos\n",
      "al_1 = Alumnos(\"Jose\",8)\n",
      "al_2 = Alumnos(\"Alberto\",9)\n",
      "print(\"alumno 1\",al_1.grado,al_1.nom,al_1.edad)\n",
      "print(\"alumno 2\",al_2.grado,al_2.nom,al_2.edad)"
     ],
     "language": "python",
     "metadata": {},
     "outputs": [
      {
       "output_type": "stream",
       "stream": "stdout",
       "text": [
        "alumno 1 primaria Jose 8\n",
        "alumno 2 primaria Alberto 9\n"
       ]
      }
     ],
     "prompt_number": 2
    },
    {
     "cell_type": "markdown",
     "metadata": {},
     "source": [
      "una muy mala ide es usar elementos mutables para declarar atributos que seran compartidos por todas las instancias"
     ]
    },
    {
     "cell_type": "code",
     "collapsed": false,
     "input": [
      "#una mala idea\n",
      "class Estudiante:\n",
      "    nombre = []\n",
      "    def __init__(self,edad):\n",
      "        self.edad = edad\n",
      "    def agregar(self,nom):\n",
      "        self.nombre.append(nom)\n",
      "#instanciamos\n",
      "al_1 = Estudiante(12)\n",
      "al_1.agregar(\"pepe\")\n",
      "al_2 = Estudiante(13)\n",
      "al_2.agregar(\"luis\")\n",
      "print(\"primer estudiante\", al_1.edad, al_1.nombre)\n",
      "print(\"segundo estudiante\", al_2.edad, al_2.nombre)"
     ],
     "language": "python",
     "metadata": {},
     "outputs": [
      {
       "output_type": "stream",
       "stream": "stdout",
       "text": [
        "primer estudiante 12 ['pepe', 'luis']\n",
        "segundo estudiante 13 ['pepe', 'luis']\n"
       ]
      }
     ],
     "prompt_number": 3
    },
    {
     "cell_type": "markdown",
     "metadata": {},
     "source": [
      "como vemos el atributo nombre es compartido a pesar de ser instanciado en dos objetos diferentes."
     ]
    },
    {
     "cell_type": "markdown",
     "metadata": {},
     "source": [
      "las clases poseen tambien la capacidad de heredar y en python son capaces de tener herencia multiple a diferencia de otros lenguajes de programacion."
     ]
    },
    {
     "cell_type": "code",
     "collapsed": false,
     "input": [
      "#clase padre 1\n",
      "class Impar:\n",
      "    def SumaImpar(self, i, f, p):\n",
      "        suma = 0\n",
      "        for n in range(i,f,p):\n",
      "            if (n % 2 != 0):\n",
      "                suma = suma + n\n",
      "        return suma\n",
      "#clase padre 2\n",
      "class Par:\n",
      "    def SumaPar(self, i, f, p):\n",
      "        suma = 0\n",
      "        for n in range(i, f, p):\n",
      "            if (n % 2 == 0):\n",
      "                suma = suma + n\n",
      "        return suma\n",
      "\n",
      "#clase hijo\n",
      "class Sumas(Par, Impar):\n",
      "    def __init__(self, inicio, fin, paso):\n",
      "        self.ini = inicio\n",
      "        self.fi = fin\n",
      "        self.pas = paso\n",
      "        \n",
      "#instanciamos\n",
      "w = Sumas(1, 10, 1)\n",
      "rsp = w.SumaPar(w.ini,w.fi,w.pas)\n",
      "rsi = w.SumaImpar(w.ini,w.fi,w.pas)\n",
      "\n",
      "print(\"suma de pares \", rsp)\n",
      "print(\"suma de impares \", rsi)"
     ],
     "language": "python",
     "metadata": {},
     "outputs": [
      {
       "output_type": "stream",
       "stream": "stdout",
       "text": [
        "suma de pares  20\n",
        "suma de impares  25\n"
       ]
      }
     ],
     "prompt_number": 12
    },
    {
     "cell_type": "heading",
     "level": 2,
     "metadata": {},
     "source": [
      "Funciones \u00bfavanzadas?"
     ]
    },
    {
     "cell_type": "heading",
     "level": 3,
     "metadata": {},
     "source": [
      "Funcion lambda"
     ]
    },
    {
     "cell_type": "markdown",
     "metadata": {},
     "source": [
      "Las funciones lambda son funciones anonimas que se declaran en una sola linea, y en general realizan tareas muy simples.Su sintaxis es la siguiente: lambda parametro : tarea_a_realizar"
     ]
    },
    {
     "cell_type": "code",
     "collapsed": false,
     "input": [
      "#definamos una funcion lambda\n",
      "f = lambda x,n : x**n\n",
      "f(2,3)"
     ],
     "language": "python",
     "metadata": {},
     "outputs": [
      {
       "metadata": {},
       "output_type": "pyout",
       "prompt_number": 5,
       "text": [
        "8"
       ]
      }
     ],
     "prompt_number": 5
    },
    {
     "cell_type": "code",
     "collapsed": false,
     "input": [
      "g = lambda z,t : str(z) + str(t)\n",
      "g(12,2)"
     ],
     "language": "python",
     "metadata": {},
     "outputs": [
      {
       "metadata": {},
       "output_type": "pyout",
       "prompt_number": 8,
       "text": [
        "'122'"
       ]
      }
     ],
     "prompt_number": 8
    },
    {
     "cell_type": "heading",
     "level": 3,
     "metadata": {},
     "source": [
      "Listas y diccionarios por comprension"
     ]
    },
    {
     "cell_type": "markdown",
     "metadata": {},
     "source": [
      "Es posible usar listas y funciones para generar otras listas. Ademas tambien podemos hacer algo parecido con los diccionarios."
     ]
    },
    {
     "cell_type": "code",
     "collapsed": false,
     "input": [
      "#definimos una lista\n",
      "li = [1,2,3,4,5,6,7,8,9,10]\n",
      "l1_2 = [n ** 2 for n in li]\n",
      "print(l1_2)\n",
      "# esto reemplaza a \n",
      "def cuadrado(l):\n",
      "    l2 = []\n",
      "    for n in l:\n",
      "        l2.append(n ** 2)\n",
      "    return l2\n",
      "re = cuadrado(li)\n",
      "print(re)"
     ],
     "language": "python",
     "metadata": {},
     "outputs": [
      {
       "output_type": "stream",
       "stream": "stdout",
       "text": [
        "[1, 4, 9, 16, 25, 36, 49, 64, 81, 100]\n",
        "[1, 4, 9, 16, 25, 36, 49, 64, 81, 100]\n"
       ]
      }
     ],
     "prompt_number": 11
    },
    {
     "cell_type": "code",
     "collapsed": false,
     "input": [
      "#definimos un diccionario por comprension\n",
      "li_3 = {n: n ** 2 for n in range(20)}\n",
      "print(li_3)"
     ],
     "language": "python",
     "metadata": {},
     "outputs": [
      {
       "output_type": "stream",
       "stream": "stdout",
       "text": [
        "{0: 0, 1: 1, 2: 4, 3: 9, 4: 16, 5: 25, 6: 36, 7: 49, 8: 64, 9: 81, 10: 100, 11: 121, 12: 144, 13: 169, 14: 196, 15: 225, 16: 256, 17: 289, 18: 324, 19: 361}\n"
       ]
      }
     ],
     "prompt_number": 4
    },
    {
     "cell_type": "heading",
     "level": 2,
     "metadata": {},
     "source": [
      "Archivos: ecritura y lectura"
     ]
    },
    {
     "cell_type": "markdown",
     "metadata": {},
     "source": [
      "Comensemos por iniciar un archivo ya sea para lectura o escritura, para lo cual se utiliza la sentencia open() ; esta sentencia debe ser asignada a un objeto, el cual nos servira para aplicar los metodos mas adelante.Dentro de los parentesis de open() debemos colocar como primer parametro el nombre del archivo entre comillas, simples o dobles luego como segundo parametro demos pasarle alguno de los siguientes:\n",
      "- r : si el archivo solo sera leido (ya debe de existir)\n",
      "- w : si el archivo solo sera escrito (un archivo existente con el mismo nombre sera borrado)\n",
      "- a : indica que se le agregara informacion al archivo, cualquier dato escrito en el archivo se agregara al final de este\n",
      "- r+ : indica que se abre tanto para escribir como para leer\n",
      "si se omite el segundo parametro se asume pro defecto \"r\".\n",
      "Normalmente los archivos son abiertos en modo texto,por enede se leen y escriben texto o strings con una cdificacion, que se asume por defecto \"UTF-8\". Pero si deseara abrir un archivo que no contiene texto, se debe usar el siguiente parametro a parte de los anteriores:\n",
      "- b : abre el archivo en modo binario y lee y escribe bytes\n",
      "Ademas los archivos tambien poseen metodos:\n",
      "- read()\n",
      "- readline()\n",
      "- write()\n",
      "- close()"
     ]
    },
    {
     "cell_type": "code",
     "collapsed": false,
     "input": [],
     "language": "python",
     "metadata": {},
     "outputs": []
    }
   ],
   "metadata": {}
  }
 ]
}