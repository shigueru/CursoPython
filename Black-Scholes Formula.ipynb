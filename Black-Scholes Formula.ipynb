{
 "metadata": {
  "name": "Black-Scholes Formula",
  "signature": "sha256:8306f14dd32a22f4125ef2d7245e837348de0f002f6e8a9dbc230ba090bfdc3a"
 },
 "nbformat": 3,
 "nbformat_minor": 0,
 "worksheets": [
  {
   "cells": [
    {
     "cell_type": "heading",
     "level": 1,
     "metadata": {},
     "source": "Introduction"
    },
    {
     "cell_type": "heading",
     "level": 4,
     "metadata": {},
     "source": "The Black-Scholes model was first introduced by Fischer Black and Myron Scholes in 1973 in the paper \"The Pricing of Options and Corporate Liabilities\". Since being published, the model has become a widely used tool by investors and is still regarded as one of the best ways to determine fair prices of options."
    },
    {
     "cell_type": "heading",
     "level": 4,
     "metadata": {},
     "source": "The purpose of the model is to determine the price of a vanilla European call and put options (option that can only be exercised at the end of its maturity) based on price variation over time and assuming the asset has a lognormal distribution."
    },
    {
     "cell_type": "heading",
     "level": 2,
     "metadata": {},
     "source": "Assumptions"
    },
    {
     "cell_type": "heading",
     "level": 4,
     "metadata": {},
     "source": "To determine the price of vanilla European options, several assumptions are made:"
    },
    {
     "cell_type": "markdown",
     "metadata": {},
     "source": "* European options can only be exercised at expiration\n* No dividends are paid during the option's life\n* Market movements cannot be predicted\n* The risk-free rate and volatility are constant\n* Follows a lognormal distribution"
    },
    {
     "cell_type": "heading",
     "level": 2,
     "metadata": {},
     "source": "Non-Dividend Paying Black-Scholes Formula"
    },
    {
     "cell_type": "heading",
     "level": 4,
     "metadata": {},
     "source": "In Black-Scholes formulas, the following parameters are defined."
    },
    {
     "cell_type": "markdown",
     "metadata": {},
     "source": "* $S$, the spot price of the asset at time $t$\n* $T$, the maturity of the option. Time to maturity is defined as $T - t$\n* $K$, strike price of the option\n* $r$, the risk-free interest rate, assumed to be constant between $t$ and $T$\n* $\\sigma$, volatility of underlying asset, the standard deviation of the asset returns"
    },
    {
     "cell_type": "heading",
     "level": 4,
     "metadata": {},
     "source": "$N(d)$ is the cumulative distribution of the standard normal variable Z"
    },
    {
     "cell_type": "heading",
     "level": 3,
     "metadata": {},
     "source": "$$N(d) = \\frac{1}{\\sqrt{2\\pi}} \\int_{-\\infty}^d e^{-\\frac{1}{2}x^2} dx$$"
    },
    {
     "cell_type": "heading",
     "level": 4,
     "metadata": {},
     "source": "$C(S,t)$ is the value at time $t$ of a call option and $P(S,t)$ is the value at time $t$ of a put option. "
    },
    {
     "cell_type": "heading",
     "level": 4,
     "metadata": {},
     "source": "The Black-Scholes call formula is given as:"
    },
    {
     "cell_type": "heading",
     "level": 3,
     "metadata": {},
     "source": "$$C(S,t) = SN(d_1) - Ke^{-r(T - t)} N(d_2)$$"
    },
    {
     "cell_type": "heading",
     "level": 4,
     "metadata": {},
     "source": "The put formula is given:"
    },
    {
     "cell_type": "heading",
     "level": 3,
     "metadata": {},
     "source": "$$P(S,t) = Ke^{-r(T - t)}N(-d_2) - SN(-d_1)$$"
    },
    {
     "cell_type": "heading",
     "level": 4,
     "metadata": {},
     "source": "Where:"
    },
    {
     "cell_type": "heading",
     "level": 3,
     "metadata": {},
     "source": "$$d_1 = \\frac{\\ln \\left(\\frac{S}{K} \\right) + \\left(r + \\frac{\\sigma^2}{2} \\right)(T - t)}{\\sigma \\sqrt{T - t}}$$"
    },
    {
     "cell_type": "heading",
     "level": 3,
     "metadata": {},
     "source": "$$d_2 = d_1 - \\sigma \\sqrt{T - t} = \\frac{\\ln \\left(\\frac{S}{K} \\right) + \\left(r - \\frac{\\sigma^2}{2}\\right)(T - t)}{\\sigma \\sqrt{T - t}}$$"
    },
    {
     "cell_type": "heading",
     "level": 2,
     "metadata": {},
     "source": "Python Implementation of Black-Scholes formula for non-dividend paying options"
    },
    {
     "cell_type": "code",
     "collapsed": false,
     "input": "import numpy as np\nimport scipy.stats as si\nimport sympy as sy\nimport sympy.statistics as systats",
     "language": "python",
     "metadata": {},
     "outputs": [],
     "prompt_number": 6
    },
    {
     "cell_type": "code",
     "collapsed": false,
     "input": "def euro_vanilla_call(S, K, T, r, sigma):\n    \n    #S: spot price\n    #K: strike price\n    #T: time to maturity\n    #r: interest rate\n    #sigma: volatility of underlying asset\n    \n    d1 = (np.log(S / K) + (r + 0.5 * sigma ** 2) * T) / (sigma * np.sqrt(T))\n    d2 = (np.log(S / K) + (r - 0.5 * sigma ** 2) * T) / (sigma * np.sqrt(T))\n    \n    call = (S * si.norm.cdf(d1, 0.0, 1.0) - K * np.exp(-r * T) * si.norm.cdf(d2, 0.0, 1.0))\n    \n    return call",
     "language": "python",
     "metadata": {},
     "outputs": [],
     "prompt_number": 7
    },
    {
     "cell_type": "code",
     "collapsed": false,
     "input": "euro_vanilla_call(50, 100, 1, 0.05, 0.25)",
     "language": "python",
     "metadata": {},
     "outputs": [
      {
       "metadata": {},
       "output_type": "pyout",
       "prompt_number": 8,
       "text": "0.027352509369436617"
      }
     ],
     "prompt_number": 8
    },
    {
     "cell_type": "code",
     "collapsed": false,
     "input": "def euro_vanilla_put(S, K, T, r, sigma):\n    \n    #S: spot price\n    #K: strike price\n    #T: time to maturity\n    #r: interest rate\n    #sigma: volatility of underlying asset\n    \n    d1 = (np.log(S / K) + (r + 0.5 * sigma ** 2) * T) / (sigma * np.sqrt(T))\n    d2 = (np.log(S / K) + (r - 0.5 * sigma ** 2) * T) / (sigma * np.sqrt(T))\n    \n    put = (K * np.exp(-r * T) * si.norm.cdf(-d2, 0.0, 1.0) - S * si.norm.cdf(-d1, 0.0, 1.0))\n    \n    return put",
     "language": "python",
     "metadata": {},
     "outputs": [],
     "prompt_number": 20
    },
    {
     "cell_type": "code",
     "collapsed": false,
     "input": "euro_vanilla_put(50, 100, 1, 0.05, 0.25)",
     "language": "python",
     "metadata": {},
     "outputs": [
      {
       "metadata": {},
       "output_type": "pyout",
       "prompt_number": 21,
       "text": "45.150294959440842"
      }
     ],
     "prompt_number": 21
    },
    {
     "cell_type": "heading",
     "level": 4,
     "metadata": {},
     "source": "The next function can be called with 'call' or 'put' for the option parameter to calculate the desired option"
    },
    {
     "cell_type": "code",
     "collapsed": false,
     "input": "def euro_vanilla(S, K, T, r, sigma, option = 'call'):\n    \n    #S: spot price\n    #K: strike price\n    #T: time to maturity\n    #r: interest rate\n    #sigma: volatility of underlying asset\n    \n    d1 = (np.log(S / K) + (r + 0.5 * sigma ** 2) * T) / (sigma * np.sqrt(T))\n    d2 = (np.log(S / K) + (r - 0.5 * sigma ** 2) * T) / (sigma * np.sqrt(T))\n    \n    if option == 'call':\n        result = (S * si.norm.cdf(d1, 0.0, 1.0) - K * np.exp(-r * T) * si.norm.cdf(d2, 0.0, 1.0))\n    if option == 'put':\n        result = (K * np.exp(-r * T) * si.norm.cdf(-d2, 0.0, 1.0) - S * si.norm.cdf(-d1, 0.0, 1.0))\n        \n    return result",
     "language": "python",
     "metadata": {},
     "outputs": [],
     "prompt_number": 9
    },
    {
     "cell_type": "code",
     "collapsed": false,
     "input": "euro_vanilla(50, 100, 1, 0.05, 0.25, option = 'put')",
     "language": "python",
     "metadata": {},
     "outputs": [
      {
       "metadata": {},
       "output_type": "pyout",
       "prompt_number": 10,
       "text": "45.150294959440842"
      }
     ],
     "prompt_number": 10
    },
    {
     "cell_type": "heading",
     "level": 3,
     "metadata": {},
     "source": "Sympy implementation for Exact Results"
    },
    {
     "cell_type": "code",
     "collapsed": false,
     "input": "def euro_call_sym(S, K, T, r, sigma):\n    \n    #S: spot price\n    #K: strike price\n    #T: time to maturity\n    #r: interest rate\n    #sigma: volatility of underlying asset\n    \n    N = systats.Normal(0.0, 1.0)\n    \n    d1 = (sy.ln(S / K) + (r + 0.5 * sigma ** 2) * T) / (sigma * sy.sqrt(T))\n    d2 = (sy.ln(S / K) + (r - 0.5 * sigma ** 2) * T) / (sigma * sy.sqrt(T))\n    \n    call = (S * N.cdf(d1) - K * sy.exp(-r * T) * N.cdf(d2))\n    \n    return call",
     "language": "python",
     "metadata": {},
     "outputs": [],
     "prompt_number": 28
    },
    {
     "cell_type": "code",
     "collapsed": false,
     "input": "euro_call_sym(50, 100, 1, 0.05, 0.25)",
     "language": "python",
     "metadata": {},
     "outputs": [
      {
       "metadata": {},
       "output_type": "pyout",
       "prompt_number": 29,
       "text": "-25.0*erf(1.22379436111989*sqrt(2)) - 22.5614712250357 + 47.5614712250357*erf(1.34879436111989*sqrt(2))"
      }
     ],
     "prompt_number": 29
    },
    {
     "cell_type": "code",
     "collapsed": false,
     "input": "def euro_put_sym(S, K, T, r, sigma):\n    \n    #S: spot price\n    #K: strike price\n    #T: time to maturity\n    #r: interest rate\n    #sigma: volatility of underlying asset\n    \n    N = systats.Normal(0.0, 1.0)\n    \n    d1 = (sy.ln(S / K) + (r + 0.5 * sigma ** 2) * T) / (sigma * sy.sqrt(T))\n    d2 = (sy.ln(S / K) + (r - 0.5 * sigma ** 2) * T) / (sigma * sy.sqrt(T))\n    \n    put = (K * sy.exp(-r * T) * N.cdf(-d2) - S * N.cdf(-d1))\n    \n    return put",
     "language": "python",
     "metadata": {},
     "outputs": [],
     "prompt_number": 16
    },
    {
     "cell_type": "heading",
     "level": 4,
     "metadata": {},
     "source": "Sympy implementation of the above function that enables one to specify a call or put result."
    },
    {
     "cell_type": "code",
     "collapsed": false,
     "input": "def sym_euro_vanilla(S, K, T, r, sigma, option = 'call'):\n    \n    #S: spot price\n    #K: strike price\n    #T: time to maturity\n    #r: interest rate\n    #sigma: volatility of underlying asset\n    \n    N = systats.Normal(0.0, 1.0)\n    \n    d1 = (sy.ln(S / K) + (r + 0.5 * sigma ** 2) * T) / (sigma * sy.sqrt(T))\n    d2 = (sy.ln(S / K) + (r - 0.5 * sigma ** 2) * T) / (sigma * sy.sqrt(T))\n    \n    if option == 'call':\n        result = (S * N.cdf(d1) - K * sy.exp(-r * T) * N.cdf(d2))\n    if option == 'put':\n        result = (K * sy.exp(-r * T) * N.cdf(-d2) - S * N.cdf(-d1))\n        \n    return result",
     "language": "python",
     "metadata": {},
     "outputs": [],
     "prompt_number": 30
    },
    {
     "cell_type": "code",
     "collapsed": false,
     "input": "sym_euro_vanilla(50, 100, 1, 0.05, 0.25, option = 'put')",
     "language": "python",
     "metadata": {},
     "outputs": [
      {
       "metadata": {},
       "output_type": "pyout",
       "prompt_number": 31,
       "text": "-25.0*erf(1.22379436111989*sqrt(2)) + 22.5614712250357 + 47.5614712250357*erf(1.34879436111989*sqrt(2))"
      }
     ],
     "prompt_number": 31
    },
    {
     "cell_type": "heading",
     "level": 2,
     "metadata": {},
     "source": "Dividend Paying Black-Scholes Formula"
    },
    {
     "cell_type": "heading",
     "level": 4,
     "metadata": {},
     "source": "For assets that pay dividends, the Black-Scholes formula is rather similar to the non-dividend paying asset formula; however, a new parameter $q$, is added. "
    },
    {
     "cell_type": "markdown",
     "metadata": {},
     "source": "* $S$, the spot price of the asset at time $t$\n* $T$, the maturity of the option. Time to maturity is defined as $T - t$\n* $K$, strike price of the option\n* $r$, the risk-free interest rate, assumed to be constant between $t$ and $T$\n* $\\sigma$, volatility of underlying asset, the standard deviation of the asset returns\n* $q$, the dividend rate of the asset. This is assumed to pay dividends at a continuous rate"
    },
    {
     "cell_type": "heading",
     "level": 4,
     "metadata": {},
     "source": "In this case, the $q$ parameter is now included in $C(S,t)$ and $P(S,t)$."
    },
    {
     "cell_type": "heading",
     "level": 3,
     "metadata": {},
     "source": "$$C(S,t) = Se^{-q(T - t)} N(d_1) - Ke^{-r(T - t)} N(d_2)$$"
    },
    {
     "cell_type": "heading",
     "level": 3,
     "metadata": {},
     "source": "$$P(S,t) = Ke^{-r(T - t)} N(-d_2) - Se^{-q(T - t)} N(-d_1)$$"
    },
    {
     "cell_type": "heading",
     "level": 4,
     "metadata": {},
     "source": "Then, $d_1$ and $d_2$ are slightly modified to include the continuous dividends"
    },
    {
     "cell_type": "heading",
     "level": 3,
     "metadata": {},
     "source": "$$d_1 = \\frac{ln \\left(\\frac{S}{K} \\right) + \\left(r - q + \\frac{\\sigma^2}{2} \\right)(T - t)}{\\sigma \\sqrt{T - t}}$$"
    },
    {
     "cell_type": "heading",
     "level": 3,
     "metadata": {},
     "source": "$$d_2 = d_1 - \\sigma \\sqrt{T - t} = \\frac{ln (\\frac{S}{K}) + (r - q - \\frac{\\sigma^2}{2})(T - t)}{\\sigma \\sqrt{T - t}}$$"
    },
    {
     "cell_type": "heading",
     "level": 2,
     "metadata": {},
     "source": "Python Implementation"
    },
    {
     "cell_type": "code",
     "collapsed": false,
     "input": "def black_scholes_call_div(S, K, T, r, q, sigma):\n    \n    #S: spot price\n    #K: strike price\n    #T: time to maturity\n    #r: interest rate\n    #q: rate of continuous dividend paying asset \n    #sigma: volatility of underlying asset\n    \n    d1 = (np.log(S / K) + (r - q + 0.5 * sigma ** 2) * T) / (sigma * np.sqrt(T))\n    d2 = (np.log(S / K) + (r - q - 0.5 * sigma ** 2) * T) / (sigma * np.sqrt(T))\n    \n    call = (S * np.exp(-q * T) * si.norm.cdf(d1, 0.0, 1.0) - K * np.exp(-r * T) * si.norm.cdf(d2, 0.0, 1.0))\n    \n    return call",
     "language": "python",
     "metadata": {},
     "outputs": [],
     "prompt_number": 32
    },
    {
     "cell_type": "code",
     "collapsed": false,
     "input": "def black_scholes_put_div(S, K, T, r, q, sigma):\n    \n    #S: spot price\n    #K: strike price\n    #T: time to maturity\n    #r: interest rate\n    #q: rate of continuous dividend paying asset \n    #sigma: volatility of underlying asset\n    \n    d1 = (np.log(S / K) + (r - q + 0.5 * sigma ** 2) * T) / (sigma * np.sqrt(T))\n    d2 = (np.log(S / K) + (r - q - 0.5 * sigma ** 2) * T) / (sigma * np.sqrt(T))\n    \n    put = (K * np.exp(-r * T) * si.norm.cdf(-d2, 0.0, 1.0) - S * np.exp(-q * T) * si.norm.cdf(-d1, 0.0, 1.0))\n    \n    return put",
     "language": "python",
     "metadata": {},
     "outputs": [],
     "prompt_number": 33
    },
    {
     "cell_type": "heading",
     "level": 4,
     "metadata": {},
     "source": "Implementation that can be used to determine the put or call option price depending on specification"
    },
    {
     "cell_type": "code",
     "collapsed": false,
     "input": "def euro_vanilla_dividend(S, K, T, r, q, sigma, option = 'call'):\n    \n    #S: spot price\n    #K: strike price\n    #T: time to maturity\n    #r: interest rate\n    #q: rate of continuous dividend paying asset \n    #sigma: volatility of underlying asset\n    \n    d1 = (np.log(S / K) + (r - q + 0.5 * sigma ** 2) * T) / (sigma * np.sqrt(T))\n    d2 = (np.log(S / K) + (r - q - 0.5 * sigma ** 2) * T) / (sigma * np.sqrt(T))\n    \n    if option == 'call':\n        result = (S * np.exp(-q * T) * si.norm.cdf(d1, 0.0, 1.0) - K * np.exp(-r * T) * si.norm.cdf(d2, 0.0, 1.0))\n    if option == 'put':\n        result = (K * np.exp(-r * T) * si.norm.cdf(-d2, 0.0, 1.0) - S * np.exp(-q * T) * si.norm.cdf(-d1, 0.0, 1.0))\n        \n    return result",
     "language": "python",
     "metadata": {},
     "outputs": [],
     "prompt_number": 34
    },
    {
     "cell_type": "heading",
     "level": 3,
     "metadata": {},
     "source": "Sympy Implementation of Black-Scholes with Dividend-paying asset"
    },
    {
     "cell_type": "code",
     "collapsed": false,
     "input": "def black_scholes_call_div_sym(S, K, T, r, q, sigma):\n    \n    #S: spot price\n    #K: strike price\n    #T: time to maturity\n    #r: interest rate\n    #q: rate of continuous dividend paying asset \n    #sigma: volatility of underlying asset\n    \n    N = systats.Normal(0.0, 1.0)\n    \n    d1 = (sy.ln(S / K) + (r - q + 0.5 * sigma ** 2) * T) / (sigma * sy.sqrt(T))\n    d2 = (sy.ln(S / K) + (r - q - 0.5 * sigma ** 2) * T) / (sigma * sy.sqrt(T))\n    \n    call = S * sy.exp(-q * T) * N.cdf(d1) - K * sy.exp(-r * T) * N.cdf(d2)\n    \n    return call",
     "language": "python",
     "metadata": {},
     "outputs": [],
     "prompt_number": 35
    },
    {
     "cell_type": "code",
     "collapsed": false,
     "input": "def black_scholes_call_put_sym(S, K, T, r, q, sigma):\n\n    #S: spot price\n    #K: strike price\n    #T: time to maturity\n    #r: interest rate\n    #q: rate of continuous dividend paying asset \n    #sigma: volatility of underlying asset\n    \n    N = systats.Normal(0.0, 1.0)\n    \n    d1 = (sy.ln(S / K) + (r - q + 0.5 * sigma ** 2) * T) / (sigma * sy.sqrt(T))\n    d2 = (sy.ln(S / K) + (r - q - 0.5 * sigma ** 2) * T) / (sigma * sy.sqrt(T))\n    \n    put = K * sy.exp(-r * T) * N.cdf(-d2) - S * sy.exp(-q * T) * N.cdf(-d1)\n    \n    return put",
     "language": "python",
     "metadata": {},
     "outputs": [],
     "prompt_number": 37
    },
    {
     "cell_type": "heading",
     "level": 4,
     "metadata": {},
     "source": "Sympy implementation of pricing a European put or call option depending on specification"
    },
    {
     "cell_type": "code",
     "collapsed": false,
     "input": "def sym_euro_vanilla_dividend(S, K, T, r, q, sigma, option = 'call'):\n    \n    #S: spot price\n    #K: strike price\n    #T: time to maturity\n    #r: interest rate\n    #q: rate of continuous dividend paying asset \n    #sigma: volatility of underlying asset\n    \n    N = systats.Normal(0.0, 1.0)\n    \n    d1 = (sy.ln(S / K) + (r - q + 0.5 * sigma ** 2) * T) / (sigma * sy.sqrt(T))\n    d2 = (sy.ln(S / K) + (r - q - 0.5 * sigma ** 2) * T) / (sigma * sy.sqrt(T))\n    \n    if option == 'call':\n        result = S * sy.exp(-q * T) * N.cdf(d1) - K * sy.exp(-r * T) * N.cdf(d2)\n    if option == 'put':\n        result = K * sy.exp(-r * T) * N.cdf(-d2) - S * sy.exp(-q * T) * N.cdf(-d1)\n        \n    return result",
     "language": "python",
     "metadata": {},
     "outputs": [],
     "prompt_number": 38
    }
   ],
   "metadata": {}
  }
 ]
}